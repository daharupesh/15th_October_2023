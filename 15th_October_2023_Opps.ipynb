{
 "cells": [
  {
   "cell_type": "markdown",
   "metadata": {},
   "source": [
    "# Constructor"
   ]
  },
  {
   "cell_type": "markdown",
   "metadata": {},
   "source": [
    " # 1. What is a Constructor in Python? Explain its purpose and usage."
   ]
  },
  {
   "cell_type": "code",
   "execution_count": null,
   "metadata": {},
   "outputs": [],
   "source": []
  },
  {
   "cell_type": "code",
   "execution_count": null,
   "metadata": {},
   "outputs": [],
   "source": []
  },
  {
   "cell_type": "markdown",
   "metadata": {},
   "source": [
    "Ans:\n",
    "\n",
    "A constructor is special method that is automatically called when an instance(Object or Variable) of Class is Created. The Primary Purpose of a constructor is to initialize the instance's attributes and perform any setup or initialization required when an object is instantiated.\n"
   ]
  },
  {
   "cell_type": "code",
   "execution_count": 1,
   "metadata": {},
   "outputs": [],
   "source": [
    "# Examples:\n",
    "class Person:\n",
    "    def __init__(self, name , age):\n",
    "        self.name = name\n",
    "        self.age = age\n",
    "    def display_info(self):\n",
    "        print(f\"name is {self.name} and age is {self.age}\")\n",
    "        \n",
    "            \n"
   ]
  },
  {
   "cell_type": "code",
   "execution_count": 2,
   "metadata": {},
   "outputs": [],
   "source": [
    "rupesh = Person(\"RupeshDaha\" ,23)"
   ]
  },
  {
   "cell_type": "code",
   "execution_count": 3,
   "metadata": {},
   "outputs": [
    {
     "name": "stdout",
     "output_type": "stream",
     "text": [
      "name is RupeshDaha and age is 23\n"
     ]
    }
   ],
   "source": [
    "rupesh.display_info()"
   ]
  },
  {
   "cell_type": "markdown",
   "metadata": {},
   "source": [
    "### Purpose of a Constructor in Python\n",
    "\n",
    "1. **Initialization**: It sets up initial values for the attributes of the object.\n",
    "2. **Automatic Call**: It is automatically called when an object of the class is created.\n",
    "3. **Setting Up State**: It ensures the object is in a valid state when created.\n",
    "\n",
    "### Usage of a Constructor in Python\n",
    "\n",
    "1. **Define with `__init__` Method**: You define a constructor using the `__init__` method inside a class.\n",
    "2. **Use Parameters**: It can take parameters to initialize the object’s attributes.\n",
    "3. **Access with `self`**: Use `self` to refer to the instance being created and to access its attributes.\n",
    "\n",
    "\n"
   ]
  },
  {
   "cell_type": "code",
   "execution_count": 4,
   "metadata": {},
   "outputs": [
    {
     "name": "stdout",
     "output_type": "stream",
     "text": [
      "Buddy\n",
      "3\n"
     ]
    }
   ],
   "source": [
    "class Dog:\n",
    "    def __init__(self, name, age):\n",
    "        self.name = name  \n",
    "        self.age = age    \n",
    "\n",
    "\n",
    "my_dog = Dog(\"Buddy\", 3)\n",
    "\n",
    "print(my_dog.name)  \n",
    "print(my_dog.age)   \n"
   ]
  },
  {
   "cell_type": "markdown",
   "metadata": {},
   "source": [
    "\n",
    "In this example:\n",
    "- **Purpose**: The `__init__` method initializes the `name` and `age` of the `Dog`.\n",
    "- **Usage**: The `__init__` method is defined in the class, takes parameters, and uses `self` to set the attributes."
   ]
  },
  {
   "cell_type": "markdown",
   "metadata": {},
   "source": [
    "# 2. Differentiate between a parameterless constructor and a parameterized constructor in Python."
   ]
  },
  {
   "cell_type": "markdown",
   "metadata": {},
   "source": [
    "Here's a table differentiating between a parameterless constructor and a parameterized constructor in Python:\n",
    "\n",
    "| **Feature**                     | **Parameterless Constructor**                        | **Parameterized Constructor**                         |\n",
    "|---------------------------------|------------------------------------------------------|-------------------------------------------------------|\n",
    "| **Definition**                  | A constructor that does not take any parameters.     | A constructor that takes one or more parameters.      |\n",
    "| **Syntax**                      | `def __init__(self):`                                | `def __init__(self, param1, param2, ...):`            |\n",
    "| **Initialization**              | Initializes default values for attributes.           | Initializes attributes using provided parameter values.|\n",
    "| **Usage Example**               | `class Example: def __init__(self): self.value = 0`  | `class Example: def __init__(self, value): self.value = value` |\n",
    "| **Object Creation**             | `obj = Example()`                                    | `obj = Example(10)`                                   |\n",
    "| **Flexibility**                 | Less flexible, only sets default values.             | More flexible, can set different values for each object. |\n",
    "| **Common Use Case**             | Simple objects with default settings.                | Objects that need specific initial values.            |\n",
    "| **Complexity**                  | Simpler to implement and use.                        | Requires passing arguments during object creation.    |\n",
    "| **Example Code**                | `class Dog: def __init__(self): self.name = \"Dog\"`   | `class Dog: def __init__(self, name): self.name = name`|\n",
    "| **Object Example**              | `dog = Dog()`                                        | `dog = Dog(\"Buddy\")`                                  |"
   ]
  },
  {
   "cell_type": "markdown",
   "metadata": {},
   "source": [
    "# 3. How do you define a constructor in a Python class? Provide an example."
   ]
  },
  {
   "cell_type": "markdown",
   "metadata": {},
   "source": [
    "### Defining a Constructor in a Python Class\n",
    "\n",
    "To define a constructor in a Python class, you use the `__init__` method. This method initializes the attributes of the class when an object is created.\n",
    "\n",
    "### Example\n",
    "\n",
    "```python\n",
    "class Car:\n",
    "    def __init__(self, make, model, year):\n",
    "        self.make = make\n",
    "        self.model = model\n",
    "        self.year = year\n",
    "\n",
    "my_car = Car(\"Toyota\", \"Corolla\", 2020)\n",
    "\n",
    "print(my_car.make)   # Output: Toyota\n",
    "print(my_car.model)  # Output: Corolla\n",
    "print(my_car.year)   # Output: 2020\n",
    "```\n",
    "\n",
    "In this example:\n",
    "- The `__init__` method is defined with parameters `make`, `model`, and `year`.\n",
    "- When `my_car` is created, the `__init__` method initializes its attributes with the provided values."
   ]
  },
  {
   "cell_type": "code",
   "execution_count": 5,
   "metadata": {},
   "outputs": [
    {
     "name": "stdout",
     "output_type": "stream",
     "text": [
      "Toyota\n",
      "Corolla\n",
      "2020\n"
     ]
    }
   ],
   "source": [
    "class Car:\n",
    "    def __init__(self, make, model, year):\n",
    "        self.make = make\n",
    "        self.model = model\n",
    "        self.year = year\n",
    "\n",
    "my_car = Car(\"Toyota\", \"Corolla\", 2020)\n",
    "\n",
    "print(my_car.make)   \n",
    "print(my_car.model)  \n",
    "print(my_car.year)   \n"
   ]
  },
  {
   "cell_type": "markdown",
   "metadata": {},
   "source": [
    "In this example:\n",
    "- The `__init__` method is defined with parameters `make`, `model`, and `year`.\n",
    "- When `my_car` is created, the `__init__` method initializes its attributes with the provided values."
   ]
  },
  {
   "cell_type": "markdown",
   "metadata": {},
   "source": [
    "# 4. Explain the `__init__` method in Python and its role in constructors."
   ]
  },
  {
   "cell_type": "markdown",
   "metadata": {},
   "source": [
    "Ans:\n",
    "### `__init__` Method in Python\n",
    "\n",
    "The `__init__` method in Python is a special method that serves as the constructor for a class. Its primary role is to initialize the instance's attributes when an object is created.\n",
    "\n",
    "### Role in Constructors\n",
    "\n",
    "- **Initialization**: It sets initial values for the object's attributes.\n",
    "- **Automatic Call**: It is automatically called when a new object is instantiated.\n",
    "- **Self Parameter**: The `self` parameter refers to the instance being created, allowing access to its attributes.\n",
    "\n",
    "### Example\n",
    "\n",
    "\n"
   ]
  },
  {
   "cell_type": "code",
   "execution_count": 6,
   "metadata": {},
   "outputs": [
    {
     "name": "stdout",
     "output_type": "stream",
     "text": [
      "1984\n",
      "George Orwell\n"
     ]
    }
   ],
   "source": [
    "class Book:\n",
    "    def __init__(self, title, author):\n",
    "        self.title = title\n",
    "        self.author = author\n",
    "\n",
    "my_book = Book(\"1984\", \"George Orwell\")\n",
    "print(my_book.title)   \n",
    "print(my_book.author)  \n"
   ]
  },
  {
   "cell_type": "markdown",
   "metadata": {},
   "source": [
    "\n",
    "In this example, the `__init__` method initializes the `title` and `author` attributes for the `Book` class when an instance is created."
   ]
  },
  {
   "cell_type": "markdown",
   "metadata": {},
   "source": [
    "# 5.  In a class named `Person`, create a constructor that initializes the `name` and `age` attributes. Provide an \n",
    "example of creating an object of this class"
   ]
  },
  {
   "cell_type": "code",
   "execution_count": 1,
   "metadata": {},
   "outputs": [],
   "source": [
    "class Person:\n",
    "    def __init__(self,name , age):\n",
    "        self.name = name\n",
    "        self.age = age\n",
    "    \n",
    "        "
   ]
  },
  {
   "cell_type": "code",
   "execution_count": 3,
   "metadata": {},
   "outputs": [],
   "source": [
    "p1 = Person(\"Rupeshdaha\" , 23)"
   ]
  },
  {
   "cell_type": "code",
   "execution_count": 5,
   "metadata": {},
   "outputs": [
    {
     "name": "stdout",
     "output_type": "stream",
     "text": [
      "Rupeshdaha\n"
     ]
    }
   ],
   "source": [
    "print(p1.name)"
   ]
  },
  {
   "cell_type": "code",
   "execution_count": 6,
   "metadata": {},
   "outputs": [
    {
     "name": "stdout",
     "output_type": "stream",
     "text": [
      "23\n"
     ]
    }
   ],
   "source": [
    "print(p1.age)"
   ]
  },
  {
   "cell_type": "markdown",
   "metadata": {},
   "source": [
    "# 6. How can you call a constructor explicitly in Python? Give an example."
   ]
  },
  {
   "cell_type": "markdown",
   "metadata": {},
   "source": [
    "In Python, we usually don't call the constructor (`__init__` method) explicitly. Instead, we create a new instance of the class, which automatically calls the constructor. However, we can explicitly call the constructor to reinitialize an existing object.\n",
    "\n",
    "### Example\n",
    "\n",
    "\n",
    "\n"
   ]
  },
  {
   "cell_type": "code",
   "execution_count": 8,
   "metadata": {},
   "outputs": [
    {
     "name": "stdout",
     "output_type": "stream",
     "text": [
      "sita\n",
      "30\n"
     ]
    }
   ],
   "source": [
    "class Person:\n",
    "    def __init__(self, name, age):\n",
    "        self.name = name\n",
    "        self.age = age\n",
    "\n",
    "# Creating an object of the Person class\n",
    "person1 = Person(\"Ram\", 25)\n",
    "\n",
    "# Explicitly calling the constructor to reinitialize the object\n",
    "person1.__init__(\"sita\", 30)\n",
    "\n",
    "print(person1.name)  \n",
    "print(person1.age)   \n"
   ]
  },
  {
   "cell_type": "markdown",
   "metadata": {},
   "source": [
    "In this example:\n",
    "- `person1 = Person(\"Ram\", 25)` creates an instance and calls the constructor automatically.\n",
    "- `person1.__init__(\"Sita\", 30)` explicitly calls the constructor to reinitialize `person1`."
   ]
  },
  {
   "cell_type": "markdown",
   "metadata": {},
   "source": [
    "# 7. What is the significance of the `self` parameter in Python constructors? Explain with an example."
   ]
  },
  {
   "cell_type": "markdown",
   "metadata": {},
   "source": [
    "### Significance of the `self` Parameter in Python Constructors\n",
    "\n",
    "The `self` parameter in Python constructors is a reference to the instance of the class being created. It allows you to access and initialize the instance's attributes and methods. The `self` parameter is essential because it distinguishes between instance variables and other local variables within the constructor."
   ]
  },
  {
   "cell_type": "code",
   "execution_count": 9,
   "metadata": {},
   "outputs": [
    {
     "name": "stdout",
     "output_type": "stream",
     "text": [
      "Name: John Doe, Age: 25\n"
     ]
    }
   ],
   "source": [
    "\n",
    "class Person:\n",
    "    def __init__(self, name, age):\n",
    "        self.name = name  # self.name refers to the instance attribute 'name'\n",
    "        self.age = age    # self.age refers to the instance attribute 'age'\n",
    "\n",
    "    def display(self):\n",
    "        print(f\"Name: {self.name}, Age: {self.age}\")\n",
    "\n",
    "# instance of the Person class\n",
    "person1 = Person(\"John Doe\", 25)\n",
    "\n",
    "# Accessing attributes using self within a method\n",
    "person1.display()  \n"
   ]
  },
  {
   "cell_type": "markdown",
   "metadata": {},
   "source": [
    "In this example:\n",
    "- The `__init__` method uses `self` to assign the values of `name` and `age` to the instance attributes.\n",
    "- The `display` method uses `self` to access and print the instance attributes.\n",
    "\n",
    "Without `self`, the constructor and methods wouldn't know which instance's attributes to refer to."
   ]
  },
  {
   "cell_type": "markdown",
   "metadata": {},
   "source": [
    "# 8. Discuss the concept of default constructors in Python. When are they used?"
   ]
  },
  {
   "cell_type": "markdown",
   "metadata": {},
   "source": [
    "### Default Constructors in Python\n",
    "\n",
    "In Python, a default constructor is a constructor method that is automatically created by Python if no `__init__` method is explicitly defined in the class. This default constructor does not perform any initialization and does not take any parameters except `self`.\n",
    "\n",
    "### When Are They Used?\n",
    "\n",
    "1. **No Custom Initialization Required**:\n",
    "   - When a class does not need to initialize any attributes upon creation, a default constructor suffices.\n",
    "   \n",
    "2. **Minimalist Classes**:\n",
    "   - For simple classes where attributes are not set during instantiation, a default constructor is used.\n",
    "\n",
    "3. **Automatic Creation**:\n",
    "   - If you do not define an `__init__` method, Python provides a default constructor automatically.\n",
    "\n",
    "### Example\n",
    "\n",
    "Here's an example to illustrate the concept of a default constructor:"
   ]
  },
  {
   "cell_type": "code",
   "execution_count": 10,
   "metadata": {},
   "outputs": [
    {
     "name": "stdout",
     "output_type": "stream",
     "text": [
      "<__main__.EmptyClass object at 0x00000162C132D210>\n"
     ]
    }
   ],
   "source": [
    "class EmptyClass:\n",
    "    pass\n",
    "\n",
    "# Creating an instance of the EmptyClass\n",
    "obj = EmptyClass()\n",
    "\n",
    "# The default constructor is automatically used\n",
    "print(obj)  \n"
   ]
  },
  {
   "cell_type": "markdown",
   "metadata": {},
   "source": [
    "In this example:\n",
    "- The `EmptyClass` does not define an `__init__` method.\n",
    "- When `obj = EmptyClass()` is executed, Python uses the default constructor to create the object."
   ]
  },
  {
   "cell_type": "markdown",
   "metadata": {},
   "source": [
    "# 9. Create a Python class called `Rectangle` with a constructor that initializes the `width` and `height` attributes. Provide a method to calculate the area of the rectangle"
   ]
  },
  {
   "cell_type": "code",
   "execution_count": 15,
   "metadata": {},
   "outputs": [],
   "source": [
    "class Rectangle:\n",
    "    def __init__(self, width, height):\n",
    "        self.width = width\n",
    "        self.height = height\n",
    "\n",
    "    def area_of_rectangle(self):\n",
    "        area = self.width * self.height\n",
    "        return area "
   ]
  },
  {
   "cell_type": "code",
   "execution_count": 16,
   "metadata": {},
   "outputs": [],
   "source": [
    "a1 = Rectangle(5,10)"
   ]
  },
  {
   "cell_type": "code",
   "execution_count": 17,
   "metadata": {},
   "outputs": [
    {
     "name": "stdout",
     "output_type": "stream",
     "text": [
      "the area of rectangle is : 50\n"
     ]
    }
   ],
   "source": [
    "area = a1.area_of_rectangle()\n",
    "print(f\"the area of rectangle is : {area}\")"
   ]
  },
  {
   "cell_type": "markdown",
   "metadata": {},
   "source": [
    "# 10. How can you have multiple constructors in a Python class? Explain with an example."
   ]
  },
  {
   "cell_type": "markdown",
   "metadata": {},
   "source": [
    "In Python, a class can effectively have multiple constructors by using class methods and the `@classmethod` decorator. This approach allows you to define multiple ways to create an instance of the class.\n",
    "\n",
    "### Example\n",
    "\n",
    "Here's how you can implement multiple constructors in a Python class:"
   ]
  },
  {
   "cell_type": "code",
   "execution_count": 20,
   "metadata": {},
   "outputs": [],
   "source": [
    "class Person:\n",
    "    def __init__(self, name, age):\n",
    "        self.name = name\n",
    "        self.age = age\n",
    "\n",
    "    @classmethod\n",
    "    def from_birth_year(cls, name, birth_year):\n",
    "        current_year = 2024\n",
    "        age = current_year - birth_year\n",
    "        return cls(name, age)\n",
    "\n",
    "    @classmethod\n",
    "    def from_string(cls, person_string):\n",
    "        name, age = person_string.split(',')\n",
    "        return cls(name, int(age))\n",
    "\n",
    "    def display(self):\n",
    "        print(f\"Name: {self.name}, Age: {self.age}\")\n"
   ]
  },
  {
   "cell_type": "code",
   "execution_count": 26,
   "metadata": {},
   "outputs": [
    {
     "name": "stdout",
     "output_type": "stream",
     "text": [
      "Name: Ram, Age: 30\n",
      "Name: Shyam, Age: 30\n",
      "Name: Ronak, Age: 25\n"
     ]
    }
   ],
   "source": [
    "# Creating instances using different constructors\n",
    "person1 = Person(\"Ram\", 30)  # Using the primary constructor\n",
    "person2 = Person.from_birth_year(\"Shyam\", 1994)  # Using the alternative constructor\n",
    "person3 = Person.from_string(\"Ronak,25\")  \n",
    "# Displaying the instances\n",
    "person1.display()  \n",
    "person2.display()  \n",
    "person3.display() "
   ]
  },
  {
   "cell_type": "markdown",
   "metadata": {},
   "source": [
    "### Explanation\n",
    "\n",
    "1. **Primary Constructor (`__init__`)**:\n",
    "   - Initializes the `name` and `age` attributes directly.\n",
    "\n",
    "2. **Alternative Constructor (`from_birth_year`)**:\n",
    "   - A class method that calculates the age based on the birth year and then calls the primary constructor.\n",
    "\n",
    "3. **Another Alternative Constructor (`from_string`)**:\n",
    "   - A class method that parses a string to extract the name and age, and then calls the primary constructor.\n"
   ]
  },
  {
   "cell_type": "markdown",
   "metadata": {},
   "source": [
    "# 11. What is method overloading, and how is it related to constructors in Python"
   ]
  },
  {
   "cell_type": "markdown",
   "metadata": {},
   "source": [
    "### Method Overloading\n",
    "\n",
    "**Method overloading** refers to the ability to define multiple methods with the same name but different parameters (types or numbers) within a class. This concept allows a class to handle different types of inputs or perform similar operations in different ways.\n",
    "\n",
    "### Method Overloading in Python\n",
    "\n",
    "Python does not support traditional method overloading directly. Instead, Python handles method overloading through:\n",
    "\n",
    "1. **Default Arguments**: Using default values for parameters to simulate different method signatures.\n",
    "2. **Variable-Length Arguments**: Using `*args` and `**kwargs` to accept an arbitrary number of positional and keyword arguments.\n",
    "3. **Single Method with Type Checking**: Implementing logic within a single method to handle different types or numbers of arguments.\n",
    "\n",
    "### Relation to Constructors\n",
    "\n",
    "In Python, method overloading is related to constructors (the `__init__` method) in the following ways:\n",
    "\n",
    "1. **Single Constructor with Default Arguments**: You can use default arguments in the `__init__` method to handle different initialization scenarios.\n",
    "2. **Alternative Constructors**: Use class methods with `@classmethod` to provide alternative ways to create instances of the class, mimicking multiple constructors.\n",
    "\n",
    "### Examples"
   ]
  },
  {
   "cell_type": "code",
   "execution_count": 27,
   "metadata": {},
   "outputs": [
    {
     "name": "stdout",
     "output_type": "stream",
     "text": [
      "15\n",
      "4\n",
      "1\n"
     ]
    }
   ],
   "source": [
    "#### Using Default Arguments in Constructor\n",
    "\n",
    "class Rectangle:\n",
    "    def __init__(self, width=1, height=1):\n",
    "        self.width = width\n",
    "        self.height = height\n",
    "\n",
    "    def calculate_area(self):\n",
    "        return self.width * self.height\n",
    "\n",
    "# Creating instances using different arguments\n",
    "rect1 = Rectangle(5, 3)  # width and height provided\n",
    "rect2 = Rectangle(4)     # height defaults to 1\n",
    "rect3 = Rectangle()      # both width and height default to 1\n",
    "\n",
    "print(rect1.calculate_area())  \n",
    "print(rect2.calculate_area())  \n",
    "print(rect3.calculate_area())  "
   ]
  },
  {
   "cell_type": "code",
   "execution_count": 28,
   "metadata": {},
   "outputs": [
    {
     "name": "stdout",
     "output_type": "stream",
     "text": [
      "Name: John Doe, Age: 30\n",
      "Name: Jane Doe, Age: 30\n",
      "Name: Alice, Age: 25\n"
     ]
    }
   ],
   "source": [
    "#### Using Class Methods for Alternative Constructors\n",
    "class Person:\n",
    "    def __init__(self, name, age):\n",
    "        self.name = name\n",
    "        self.age = age\n",
    "\n",
    "    @classmethod\n",
    "    def from_birth_year(cls, name, birth_year):\n",
    "        current_year = 2024\n",
    "        age = current_year - birth_year\n",
    "        return cls(name, age)\n",
    "\n",
    "    @classmethod\n",
    "    def from_string(cls, person_string):\n",
    "        name, age = person_string.split(',')\n",
    "        return cls(name, int(age))\n",
    "\n",
    "    def display(self):\n",
    "        print(f\"Name: {self.name}, Age: {self.age}\")\n",
    "\n",
    "# Creating instances using different constructors\n",
    "person1 = Person(\"John Doe\", 30)  # Primary constructor\n",
    "person2 = Person.from_birth_year(\"Jane Doe\", 1994)  # Alternative constructor\n",
    "person3 = Person.from_string(\"Alice,25\")  # Another alternative constructor\n",
    "\n",
    "person1.display()  \n",
    "person2.display()  \n",
    "person3.display()  "
   ]
  },
  {
   "cell_type": "markdown",
   "metadata": {},
   "source": [
    "### Summary\n",
    "\n",
    "- **Method Overloading**: The ability to define multiple methods with the same name but different parameters.\n",
    "- **Python Implementation**: Simulated using default arguments, variable-length arguments, and class methods.\n",
    "- **Constructors**: Method overloading concepts are applied in Python constructors to handle different initialization scenarios and create objects in various ways."
   ]
  },
  {
   "cell_type": "markdown",
   "metadata": {},
   "source": [
    "### `super()` in Python Constructors\n",
    "\n",
    "**Purpose**: The `super()` function allows a child class to call the `__init__` method of its parent class, ensuring that parent class initialization is executed.\n",
    "\n",
    "### Example"
   ]
  },
  {
   "cell_type": "code",
   "execution_count": 29,
   "metadata": {},
   "outputs": [],
   "source": [
    "class Animal:\n",
    "    def __init__(self, name):\n",
    "        self.name = name\n",
    "\n",
    "class Dog(Animal):\n",
    "    def __init__(self, name, breed):\n",
    "        super().__init__(name)  # Calls Animal's __init__\n",
    "        self.breed = breed\n",
    "\n",
    "# Creating an instance of Dog\n",
    "dog = Dog(\"Buddy\", \"Golden Retriever\")\n"
   ]
  },
  {
   "cell_type": "markdown",
   "metadata": {},
   "source": [
    "### Summary\n",
    "\n",
    "- **Function**: Initializes parent class attributes when creating a child class instance.\n",
    "- **Usage**: `super().__init__(...)` in the child class's `__init__` method."
   ]
  },
  {
   "cell_type": "markdown",
   "metadata": {},
   "source": [
    " # 13. Create a class called `Book` with a constructor that initializes the `title`, `author`, and `published_year` attributes. Provide a method to display book details"
   ]
  },
  {
   "cell_type": "code",
   "execution_count": 33,
   "metadata": {},
   "outputs": [],
   "source": [
    "class Book:\n",
    "    def __init__(self,title, author , published_year):\n",
    "        self.title = title\n",
    "        self.author = author\n",
    "        self.published_year = published_year \n",
    "    def diplay_info(self):\n",
    "        print(f\"the auther name is : {self.author}, book title : {self.title} and publisher is : {self.published_year}\")\n"
   ]
  },
  {
   "cell_type": "code",
   "execution_count": 34,
   "metadata": {},
   "outputs": [],
   "source": [
    "b1 = Book(\"Rich Dad Poor Dah\" ,\"Riyashaki\" , 2002)"
   ]
  },
  {
   "cell_type": "code",
   "execution_count": 35,
   "metadata": {},
   "outputs": [
    {
     "name": "stdout",
     "output_type": "stream",
     "text": [
      "the auther name is : Riyashaki, book title : Rich Dad Poor Dah and publisher is : 2002\n"
     ]
    }
   ],
   "source": [
    "b1.diplay_info()"
   ]
  },
  {
   "cell_type": "markdown",
   "metadata": {},
   "source": [
    "# 14. Discuss the differences between constructors and regular methods in Python classes."
   ]
  },
  {
   "cell_type": "markdown",
   "metadata": {},
   "source": [
    "Here's a comparison between constructors and regular methods in Python classes:\n",
    "\n",
    "| **Aspect**                | **Constructors (`__init__` method)**                             | **Regular Methods**                                       |\n",
    "|---------------------------|------------------------------------------------------------------|-----------------------------------------------------------|\n",
    "| **Definition**            | Special method used to initialize a new instance of a class.    | Regular methods define behavior and operations of a class. |\n",
    "| **Method Name**           | Always named `__init__`.                                         | Can be named anything (e.g., `display`, `calculate`).      |\n",
    "| **Purpose**               | Sets up initial state and attributes of an object.              | Defines specific actions or operations on object data.    |\n",
    "| **Invocation**            | Automatically called when a new instance is created.             | Explicitly called on an instance or class.               |\n",
    "| **Return Value**          | Does not return a value (returns `None` by default).             | Can return values or perform actions.                    |\n",
    "| **Parameter Requirement** | Initializes instance attributes based on provided parameters.   | Takes parameters based on the method's functionality.     |\n",
    "| **Usage**                 | Used only once per object creation to set up initial values.     | Used multiple times to perform actions or modify the object state. |\n",
    "| **Example**               | `def __init__(self, name): self.name = name`                     | `def greet(self): return f\"Hello, {self.name}\"`          |\n",
    "\n",
    "\n",
    "- **Constructors**: Initialize an object’s state upon creation.\n",
    "- **Regular Methods**: Define behaviors and operations that can be called on the object."
   ]
  },
  {
   "cell_type": "markdown",
   "metadata": {},
   "source": [
    "# 15. Explain the role of the self parameter in instance variable initialization within a constructor."
   ]
  },
  {
   "cell_type": "markdown",
   "metadata": {},
   "source": [
    "The `self` parameter in a constructor refers to the instance of the class being created. It is used to initialize instance variables, allowing each object to maintain its own state. \n",
    "\n",
    "### Role of `self`\n",
    "\n",
    "- **Accessing Instance Variables**: `self` is used to set or get the values of instance variables specific to the current object.\n",
    "- **Distinguishing Between Instance and Local Variables**: `self` differentiates instance variables from local variables within methods.\n",
    "\n",
    "### Example"
   ]
  },
  {
   "cell_type": "code",
   "execution_count": 36,
   "metadata": {},
   "outputs": [
    {
     "name": "stdout",
     "output_type": "stream",
     "text": [
      "Alice\n",
      "30\n"
     ]
    }
   ],
   "source": [
    "class Person:\n",
    "    def __init__(self, name, age):\n",
    "        self.name = name  # Initializes the instance variable 'name'\n",
    "        self.age = age    # Initializes the instance variable 'age'\n",
    "\n",
    "person = Person(\"Alice\", 30)\n",
    "print(person.name)  \n",
    "print(person.age)   "
   ]
  },
  {
   "cell_type": "markdown",
   "metadata": {},
   "source": [
    "### Summary\n",
    "\n",
    "- **Purpose**: `self` refers to the current instance and is used to initialize and access instance variables."
   ]
  },
  {
   "cell_type": "markdown",
   "metadata": {},
   "source": [
    "# 16. How do you prevent a class from having multiple instances by using constructors in Python? Provide an example"
   ]
  },
  {
   "cell_type": "markdown",
   "metadata": {},
   "source": [
    "To prevent a class from having multiple instances in Python, use the Singleton pattern:\n",
    "\n",
    "### Example"
   ]
  },
  {
   "cell_type": "code",
   "execution_count": 42,
   "metadata": {},
   "outputs": [
    {
     "name": "stdout",
     "output_type": "stream",
     "text": [
      "First\n",
      "True\n"
     ]
    }
   ],
   "source": [
    "class Singleton:\n",
    "    _instance = None\n",
    "\n",
    "    def __new__(cls, *args, **kwargs):\n",
    "        if cls._instance is None:\n",
    "            cls._instance = super(Singleton, cls).__new__(cls)\n",
    "        return cls._instance\n",
    "\n",
    "    def __init__(self, value):\n",
    "        if not hasattr(self, 'initialized'):\n",
    "            self.value = value\n",
    "            self.initialized = True\n",
    "\n",
    "# Usage\n",
    "singleton1 = Singleton(\"First\")\n",
    "singleton2 = Singleton(\"Second\")\n",
    "\n",
    "print(singleton1.value)\n",
    "print(singleton1 is singleton2)\n"
   ]
  },
  {
   "cell_type": "markdown",
   "metadata": {},
   "source": [
    "\n",
    "- **`__new__` Method**: Ensures only one instance is created.\n",
    "- **`_instance`**: Holds the single instance."
   ]
  },
  {
   "cell_type": "markdown",
   "metadata": {},
   "source": [
    "# 17. Create a Python class called `Student` with a constructor that takes a list of subjects as a parameter and initializes the `subjects` attribute."
   ]
  },
  {
   "cell_type": "code",
   "execution_count": 48,
   "metadata": {},
   "outputs": [],
   "source": [
    "class Student:\n",
    "    def __init__(self,subjects):\n",
    "        self.subjects = subjects"
   ]
  },
  {
   "cell_type": "code",
   "execution_count": 49,
   "metadata": {},
   "outputs": [],
   "source": [
    "s1 = Student([\"Math\",\"Science\",\"English\"])"
   ]
  },
  {
   "cell_type": "code",
   "execution_count": 50,
   "metadata": {},
   "outputs": [
    {
     "name": "stdout",
     "output_type": "stream",
     "text": [
      "['Math', 'Science', 'English']\n"
     ]
    }
   ],
   "source": [
    "print(s1.subjects)"
   ]
  },
  {
   "cell_type": "markdown",
   "metadata": {},
   "source": [
    "# 18. What is the purpose of the `__del__` method in Python classes, and how does it relate to constructors?"
   ]
  },
  {
   "cell_type": "markdown",
   "metadata": {},
   "source": [
    "### `__del__` Method\n",
    "\n",
    "**Purpose**: The `__del__` method is a destructor used for cleanup when an object is about to be destroyed, such as releasing resources or closing connections.\n",
    "\n",
    "**Relation to Constructors**: While `__init__` initializes an object's attributes, `__del__` handles cleanup, ensuring proper resource management.\n",
    "\n",
    "### Example"
   ]
  },
  {
   "cell_type": "code",
   "execution_count": 51,
   "metadata": {},
   "outputs": [
    {
     "name": "stdout",
     "output_type": "stream",
     "text": [
      "Resource Database Connection released\n"
     ]
    }
   ],
   "source": [
    "class Resource:\n",
    "    def __init__(self, name):\n",
    "        self.name = name\n",
    "\n",
    "    def __del__(self):\n",
    "        print(f\"Resource {self.name} released\")\n",
    "\n",
    "# Usage\n",
    "resource = Resource(\"Database Connection\")\n",
    "del resource"
   ]
  },
  {
   "cell_type": "markdown",
   "metadata": {},
   "source": [
    "\n",
    "**Summary**: `__init__` sets up resources; `__del__` cleans them up when the object is no longer needed."
   ]
  },
  {
   "cell_type": "markdown",
   "metadata": {},
   "source": [
    "# 19. Explain the use of constructor chaining in Python. Provide a practical example"
   ]
  },
  {
   "cell_type": "markdown",
   "metadata": {},
   "source": [
    "### Constructor Chaining in Python\n",
    "\n",
    "**Purpose**: Reuse initialization code by calling one constructor from another within the same or different class.\n",
    "\n",
    "### Example\n"
   ]
  },
  {
   "cell_type": "code",
   "execution_count": 56,
   "metadata": {},
   "outputs": [
    {
     "data": {
      "text/plain": [
       "'S12345'"
      ]
     },
     "execution_count": 56,
     "metadata": {},
     "output_type": "execute_result"
    }
   ],
   "source": [
    "class Person:\n",
    "    def __init__(self, name, age):\n",
    "        self.name = name\n",
    "        self.age = age\n",
    "\n",
    "class Student(Person):\n",
    "    def __init__(self, name, age, student_id):\n",
    "        super().__init__(name, age)\n",
    "        self.student_id = student_id\n",
    "\n",
    "# Usage\n",
    "student = Student(\"Alice\", 20, \"S12345\")\n",
    "student.student_id\n"
   ]
  },
  {
   "cell_type": "markdown",
   "metadata": {},
   "source": [
    "\n",
    " `Student` uses `super()` to call `Person`'s constructor, reusing its initialization logic and adding its own."
   ]
  },
  {
   "cell_type": "markdown",
   "metadata": {},
   "source": [
    " # 20. Create a Python class called `Car` with a default constructor that initializes the `make` and `model` attributes. Provide a method to display car information"
   ]
  },
  {
   "cell_type": "code",
   "execution_count": 57,
   "metadata": {},
   "outputs": [],
   "source": [
    "class Car:\n",
    "    def __init__(self,make,model):\n",
    "        self.make = make\n",
    "        self.model = model\n",
    "\n",
    "    def display(self):\n",
    "        print(f\"the car model is {self.model} and manufacture in {self.make} \")    "
   ]
  },
  {
   "cell_type": "code",
   "execution_count": 61,
   "metadata": {},
   "outputs": [],
   "source": [
    "c1 = Car(\"india\",\"tata 2024\")"
   ]
  },
  {
   "cell_type": "code",
   "execution_count": 62,
   "metadata": {},
   "outputs": [
    {
     "name": "stdout",
     "output_type": "stream",
     "text": [
      "the car model is tata 2024 and manufacture in india \n"
     ]
    }
   ],
   "source": [
    "c1.display()"
   ]
  },
  {
   "cell_type": "markdown",
   "metadata": {},
   "source": [
    "# InHeritance\n"
   ]
  },
  {
   "cell_type": "markdown",
   "metadata": {},
   "source": [
    "# 1. What is inheritance in Python? Explain its significance in object-oriented programming.\n",
    "Ans:\n",
    "\n",
    "Inheritance in Python is a feature of object-oriented programming that allows a class (known as the child or derived class) to inherit attributes and methods from another class (known as the parent or base class). This creates a hierarchical relationship between classes.\n",
    "\n",
    "Significance:\n",
    "\n",
    "- Code Reusability: Inheritance allows you to reuse code from existing classes. This helps in reducing redundancy and increasing maintainability.\n",
    "- Hierarchical Organization: Inheritance establishes a natural hierarchy between classes, reflecting real-world relationships.\n",
    "- Extensibility: You can extend the functionality of existing classes without modifying their code, promoting flexibility and scalability."
   ]
  },
  {
   "cell_type": "code",
   "execution_count": 63,
   "metadata": {},
   "outputs": [
    {
     "name": "stdout",
     "output_type": "stream",
     "text": [
      "Animal speaks\n",
      "Dog barks\n"
     ]
    }
   ],
   "source": [
    "class Animal:\n",
    "    def speak(self):\n",
    "        print(\"Animal speaks\")\n",
    "\n",
    "class Dog(Animal):\n",
    "    def bark(self):\n",
    "        print(\"Dog barks\")\n",
    "\n",
    "# Usage\n",
    "dog = Dog()\n",
    "dog.speak() \n",
    "dog.bark()   \n"
   ]
  },
  {
   "cell_type": "markdown",
   "metadata": {},
   "source": [
    "# 2. Differentiate between single inheritance and multiple inheritance in Python. Provide examples for each."
   ]
  },
  {
   "cell_type": "markdown",
   "metadata": {},
   "source": [
    "Single Inheritance:\n",
    "\n",
    "- Description: A class inherits from only one parent class.\n",
    "- Example:"
   ]
  },
  {
   "cell_type": "code",
   "execution_count": 64,
   "metadata": {},
   "outputs": [
    {
     "name": "stdout",
     "output_type": "stream",
     "text": [
      "Alice 12\n"
     ]
    }
   ],
   "source": [
    "class Parent:\n",
    "    def __init__(self, name):\n",
    "        self.name = name\n",
    "\n",
    "class Child(Parent):\n",
    "    def __init__(self, name, age):\n",
    "        super().__init__(name)\n",
    "        self.age = age\n",
    "\n",
    "# Usage\n",
    "child = Child(\"Alice\", 12)\n",
    "print(child.name, child.age)\n"
   ]
  },
  {
   "cell_type": "markdown",
   "metadata": {},
   "source": [
    "Multiple Inheritance:\n",
    "\n",
    "- Description: A class inherits from more than one parent class.\n",
    "- Example:"
   ]
  },
  {
   "cell_type": "code",
   "execution_count": 65,
   "metadata": {},
   "outputs": [
    {
     "name": "stdout",
     "output_type": "stream",
     "text": [
      "Method from Parent1\n",
      "Method from Parent2\n"
     ]
    }
   ],
   "source": [
    "class Parent1:\n",
    "    def method1(self):\n",
    "        print(\"Method from Parent1\")\n",
    "\n",
    "class Parent2:\n",
    "    def method2(self):\n",
    "        print(\"Method from Parent2\")\n",
    "\n",
    "class Child(Parent1, Parent2):\n",
    "    pass\n",
    "\n",
    "# Usage\n",
    "child = Child()\n",
    "child.method1()\n",
    "child.method2()\n"
   ]
  },
  {
   "cell_type": "markdown",
   "metadata": {},
   "source": [
    "# 3. Create a Python class called Vehicle with attributes color and speed. Then, create a child class called Car that inherits from Vehicle and adds a brand attribute. Provide an example of creating a Car object."
   ]
  },
  {
   "cell_type": "code",
   "execution_count": 71,
   "metadata": {},
   "outputs": [],
   "source": [
    "class Vehicle:\n",
    "    def __init__(self,color,speed):\n",
    "        self.color = color\n",
    "        self.speed = speed\n",
    "\n",
    "class Car(Vehicle):\n",
    "    def __init__(self,color,speed,branch):\n",
    "        super().__init__(color,speed)\n",
    "        self.branch = branch\n",
    "\n",
    "    def display(self):\n",
    "        print(self.color,self.speed,self.branch)    \n"
   ]
  },
  {
   "cell_type": "code",
   "execution_count": 72,
   "metadata": {},
   "outputs": [],
   "source": [
    "c1 = Car(\"Red\",120,\"Toyota\")"
   ]
  },
  {
   "cell_type": "code",
   "execution_count": 73,
   "metadata": {},
   "outputs": [
    {
     "name": "stdout",
     "output_type": "stream",
     "text": [
      "Red 120 Toyota\n"
     ]
    }
   ],
   "source": [
    "c1.display()"
   ]
  },
  {
   "cell_type": "markdown",
   "metadata": {},
   "source": [
    "# 4. Explain the concept of method overriding in inheritance. Provide a practical example."
   ]
  },
  {
   "cell_type": "markdown",
   "metadata": {},
   "source": [
    "### Method Overriding: \n",
    "This occurs when a child class provides a specific implementation of a method that is already defined in its parent class. The overridden method in the child class has the same name and signature as the one in the parent class"
   ]
  },
  {
   "cell_type": "code",
   "execution_count": 75,
   "metadata": {},
   "outputs": [
    {
     "name": "stdout",
     "output_type": "stream",
     "text": [
      "Hello from Child\n"
     ]
    }
   ],
   "source": [
    "class Parent:\n",
    "    def greet(self):\n",
    "        print(\"Hello from Parent\")\n",
    "\n",
    "class Child(Parent):\n",
    "    def greet(self):\n",
    "        print(\"Hello from Child\")\n",
    "\n",
    "# Usage\n",
    "child = Child()\n",
    "child.greet() \n"
   ]
  },
  {
   "cell_type": "markdown",
   "metadata": {},
   "source": [
    "# 5. How can you access the methods and attributes of a parent class from a child class in Python? Give an example."
   ]
  },
  {
   "cell_type": "markdown",
   "metadata": {},
   "source": [
    "#### Accessing Parent Class Methods and Attributes:\n",
    "You can use super() to call methods and access attributes from the parent class.\n"
   ]
  },
  {
   "cell_type": "code",
   "execution_count": 85,
   "metadata": {},
   "outputs": [],
   "source": [
    "class Parent:\n",
    "    def __init__(self,name,age):\n",
    "        self.name = name\n",
    "        self.age = age\n",
    "    def display_info(self):\n",
    "        print(self.name , self.age)    \n",
    "\n",
    "class Child(Parent):\n",
    "    def __init__(self,name,age ,gender):\n",
    "        super().__init__(name,age)\n",
    "        self.gender = gender\n",
    "    def display(self):\n",
    "        print(f\"the name is : {self.name},age = {self.age} and gender={self.gender}\")    \n"
   ]
  },
  {
   "cell_type": "code",
   "execution_count": 86,
   "metadata": {},
   "outputs": [],
   "source": [
    "c1 = Child(\"Rupesh\",23,\"male\")"
   ]
  },
  {
   "cell_type": "code",
   "execution_count": 87,
   "metadata": {},
   "outputs": [
    {
     "name": "stdout",
     "output_type": "stream",
     "text": [
      "the name is : Rupesh,age = 23 and gender=male\n",
      "Rupesh 23\n"
     ]
    }
   ],
   "source": [
    "c1.display()\n",
    "c1.display_info()"
   ]
  },
  {
   "cell_type": "markdown",
   "metadata": {},
   "source": [
    "# 6. Discuss the use of the super() function in Python inheritance. When and why is it used? Provide an example."
   ]
  },
  {
   "cell_type": "markdown",
   "metadata": {},
   "source": [
    "`super()`: This function returns a temporary object of the superclass that allows access to its methods. It is commonly used to call methods from a parent class in the context of method overriding.\n",
    "\n",
    "When and Why:\n",
    "\n",
    "- Initialization: To ensure the parent class’s __init__() method is executed when initializing a child class.\n",
    "- Method Extension: To extend functionality of a parent method rather than completely replacing it."
   ]
  },
  {
   "cell_type": "code",
   "execution_count": 90,
   "metadata": {},
   "outputs": [
    {
     "name": "stdout",
     "output_type": "stream",
     "text": [
      "Parent init\n",
      "I am name method\n",
      "Child init\n"
     ]
    }
   ],
   "source": [
    "class Parent:\n",
    "    def __init__(self):\n",
    "        print(\"Parent init\")\n",
    "    def name(self):\n",
    "        print(\"I am name method\")\n",
    "class Child(Parent):\n",
    "    def __init__(self):\n",
    "        super().__init__()\n",
    "        super().name()\n",
    "        print(\"Child init\")\n",
    "\n",
    "\n",
    "# Usage\n",
    "child = Child()\n"
   ]
  },
  {
   "cell_type": "markdown",
   "metadata": {},
   "source": [
    "# 7. Create a Python class called Animal with a method speak(). Then, create child classes Dog and Cat that inherit from Animal and override the speak() method. Provide an example of using these classes."
   ]
  },
  {
   "cell_type": "code",
   "execution_count": 91,
   "metadata": {},
   "outputs": [
    {
     "name": "stdout",
     "output_type": "stream",
     "text": [
      "Woof\n",
      "Meow\n"
     ]
    }
   ],
   "source": [
    "class Animal:\n",
    "    def speak(self):\n",
    "        print(\"Animal speaks\")\n",
    "\n",
    "class Dog(Animal):\n",
    "    def speak(self):\n",
    "        print(\"Woof\")\n",
    "\n",
    "class Cat(Animal):\n",
    "    def speak(self):\n",
    "        print(\"Meow\")\n",
    "\n",
    "# Usage\n",
    "dog = Dog()\n",
    "cat = Cat()\n",
    "dog.speak()  \n",
    "cat.speak()  \n"
   ]
  },
  {
   "cell_type": "markdown",
   "metadata": {},
   "source": [
    "# 8. Explain the role of the isinstance() function in Python and how it relates to inheritance.\n",
    "\n",
    "ans:\n",
    "\n",
    "`isinstance()`: This function checks if an object is an instance of a class or a subclass. It’s useful for verifying an object’s type, especially in polymorphic code."
   ]
  },
  {
   "cell_type": "code",
   "execution_count": 93,
   "metadata": {},
   "outputs": [
    {
     "name": "stdout",
     "output_type": "stream",
     "text": [
      "True\n",
      "True\n",
      "False\n"
     ]
    }
   ],
   "source": [
    "class Parent:\n",
    "    pass\n",
    "\n",
    "class Child(Parent):\n",
    "    pass\n",
    "\n",
    "obj = Child()\n",
    "obj1 = Parent()\n",
    "print(isinstance(obj, Parent)) \n",
    "print(isinstance(obj, Child))  \n",
    "print(isinstance(obj1, Child))  \n",
    "\n",
    " \n"
   ]
  },
  {
   "cell_type": "markdown",
   "metadata": {},
   "source": [
    "# 9. What is the purpose of the issubclass() function in Python? Provide an example."
   ]
  },
  {
   "cell_type": "markdown",
   "metadata": {},
   "source": [
    "Ans:\n",
    "\n",
    "`issubclass()`: This function checks if a class is a subclass of another class. It is useful for determining class hierarchy relationships."
   ]
  },
  {
   "cell_type": "code",
   "execution_count": 94,
   "metadata": {},
   "outputs": [
    {
     "name": "stdout",
     "output_type": "stream",
     "text": [
      "True\n",
      "False\n"
     ]
    }
   ],
   "source": [
    "class Parent:\n",
    "    pass\n",
    "\n",
    "class Child(Parent):\n",
    "    pass\n",
    "\n",
    "print(issubclass(Child, Parent))  \n",
    "print(issubclass(Parent, Child))  \n"
   ]
  },
  {
   "cell_type": "markdown",
   "metadata": {},
   "source": [
    "# 10. Discuss the concept of constructor inheritance in Python. How are constructors inherited in child classes?"
   ]
  },
  {
   "cell_type": "markdown",
   "metadata": {},
   "source": [
    "#### Constructor Inheritance:\n",
    " Child classes inherit the constructor of their parent classes. However, the child class can override the constructor to add additional initialization logic. Use super() to call the parent’s constructor from the child class.\n",
    "\n",
    "Example:"
   ]
  },
  {
   "cell_type": "code",
   "execution_count": 95,
   "metadata": {},
   "outputs": [
    {
     "name": "stdout",
     "output_type": "stream",
     "text": [
      "Alice 12\n"
     ]
    }
   ],
   "source": [
    "class Parent:\n",
    "    def __init__(self, name):\n",
    "        self.name = name\n",
    "\n",
    "class Child(Parent):\n",
    "    def __init__(self, name, age):\n",
    "        super().__init__(name)\n",
    "        self.age = age\n",
    "\n",
    "# Usage\n",
    "child = Child(\"Alice\", 12)\n",
    "print(child.name, child.age)\n"
   ]
  },
  {
   "cell_type": "markdown",
   "metadata": {},
   "source": [
    "# 11. Create a Python class called Shape with a method area() that calculates the area of a shape. Then, create child classes Circle and Rectangle that inherit from Shape and implement the area() method accordingly. Provide an example."
   ]
  },
  {
   "cell_type": "code",
   "execution_count": 97,
   "metadata": {},
   "outputs": [
    {
     "name": "stdout",
     "output_type": "stream",
     "text": [
      "78.53981633974483\n",
      "24\n"
     ]
    }
   ],
   "source": [
    "import math\n",
    "\n",
    "class Shape:\n",
    "    def area(self):\n",
    "        raise NotImplementedError(\"Subclasses must implement this method\")\n",
    "\n",
    "class Circle(Shape):\n",
    "    def __init__(self, radius):\n",
    "        self.radius = radius\n",
    "\n",
    "    def area(self):\n",
    "        return math.pi * self.radius ** 2\n",
    "\n",
    "class Rectangle(Shape):\n",
    "    def __init__(self, width, height):\n",
    "        self.width = width\n",
    "        self.height = height\n",
    "\n",
    "    def area(self):\n",
    "        return self.width * self.height\n",
    "\n",
    "# Usage\n",
    "circle = Circle(5)\n",
    "rectangle = Rectangle(4, 6)\n",
    "print(circle.area())\n",
    "print(rectangle.area())\n"
   ]
  },
  {
   "cell_type": "markdown",
   "metadata": {},
   "source": [
    "# 12. Explain the use of abstract base classes (ABCs) in Python and how they relate to inheritance. Provide an example using the abc module."
   ]
  },
  {
   "cell_type": "markdown",
   "metadata": {},
   "source": [
    "### Abstract Base Classes (ABCs):\n",
    " ABCs are used to define methods that must be implemented by any subclass. They provide a way to define a common interface for a set of subclasses."
   ]
  },
  {
   "cell_type": "code",
   "execution_count": 100,
   "metadata": {},
   "outputs": [
    {
     "name": "stdout",
     "output_type": "stream",
     "text": [
      "78.53981633974483\n"
     ]
    }
   ],
   "source": [
    "from abc import ABC, abstractmethod\n",
    "\n",
    "class Shape(ABC):\n",
    "    @abstractmethod\n",
    "    def area(self):\n",
    "        pass\n",
    "\n",
    "class Circle(Shape):\n",
    "    def __init__(self, radius):\n",
    "        self.radius = radius\n",
    "\n",
    "    def area(self):\n",
    "        return math.pi * self.radius ** 2\n",
    "\n",
    "# Usage\n",
    "circle = Circle(5)\n",
    "print(circle.area())\n"
   ]
  },
  {
   "cell_type": "markdown",
   "metadata": {},
   "source": [
    "# 13. How can you prevent a child class from modifying certain attributes or methods inherited from a parent class in Python?"
   ]
  },
  {
   "cell_type": "markdown",
   "metadata": {},
   "source": [
    "Python does not have built-in mechanisms like final keywords from other languages. Instead, you can use conventions or raise exceptions to signal that certain attributes or methods should not be overridden."
   ]
  },
  {
   "cell_type": "code",
   "execution_count": 102,
   "metadata": {},
   "outputs": [
    {
     "ename": "NotImplementedError",
     "evalue": "Cannot override this method",
     "output_type": "error",
     "traceback": [
      "\u001b[1;31m---------------------------------------------------------------------------\u001b[0m",
      "\u001b[1;31mNotImplementedError\u001b[0m                       Traceback (most recent call last)",
      "Cell \u001b[1;32mIn[102], line 17\u001b[0m\n\u001b[0;32m     15\u001b[0m \u001b[38;5;66;03m# Usage\u001b[39;00m\n\u001b[0;32m     16\u001b[0m child \u001b[38;5;241m=\u001b[39m Child()\n\u001b[1;32m---> 17\u001b[0m \u001b[43mchild\u001b[49m\u001b[38;5;241;43m.\u001b[39;49m\u001b[43m_final_method\u001b[49m\u001b[43m(\u001b[49m\u001b[43m)\u001b[49m  \n",
      "Cell \u001b[1;32mIn[102], line 13\u001b[0m, in \u001b[0;36mChild._final_method\u001b[1;34m(self)\u001b[0m\n\u001b[0;32m     12\u001b[0m \u001b[38;5;28;01mdef\u001b[39;00m \u001b[38;5;21m_final_method\u001b[39m(\u001b[38;5;28mself\u001b[39m):\n\u001b[1;32m---> 13\u001b[0m     \u001b[38;5;28;01mraise\u001b[39;00m \u001b[38;5;167;01mNotImplementedError\u001b[39;00m(\u001b[38;5;124m\"\u001b[39m\u001b[38;5;124mCannot override this method\u001b[39m\u001b[38;5;124m\"\u001b[39m)\n",
      "\u001b[1;31mNotImplementedError\u001b[0m: Cannot override this method"
     ]
    }
   ],
   "source": [
    "class Parent:\n",
    "    def __init__(self):\n",
    "        self._final_attr = \"This should not be changed\"\n",
    "\n",
    "    def _final_method(self):\n",
    "        print(\"This method should not be overridden\")\n",
    "\n",
    "class Child(Parent):\n",
    "    def __init__(self):\n",
    "        super().__init__()\n",
    "\n",
    "    def _final_method(self):\n",
    "        raise NotImplementedError(\"Cannot override this method\")\n",
    "\n",
    "# Usage\n",
    "child = Child()\n",
    "child._final_method()  "
   ]
  },
  {
   "cell_type": "markdown",
   "metadata": {},
   "source": [
    "# 14. Create a Python class called Employee with attributes name and salary. Then, create a child class Manager that inherits from Employee and adds an attribute department. Provide an example."
   ]
  },
  {
   "cell_type": "code",
   "execution_count": 103,
   "metadata": {},
   "outputs": [
    {
     "name": "stdout",
     "output_type": "stream",
     "text": [
      "John 50000 Sales\n"
     ]
    }
   ],
   "source": [
    "class Employee:\n",
    "    def __init__(self, name, salary):\n",
    "        self.name = name\n",
    "        self.salary = salary\n",
    "\n",
    "class Manager(Employee):\n",
    "    def __init__(self, name, salary, department):\n",
    "        super().__init__(name, salary)\n",
    "        self.department = department\n",
    "\n",
    "# Usage\n",
    "manager = Manager(\"John\", 50000, \"Sales\")\n",
    "print(manager.name, manager.salary, manager.department)\n"
   ]
  },
  {
   "cell_type": "markdown",
   "metadata": {},
   "source": [
    "# 15. Discuss the concept of method overloading in Python inheritance. How does it differ from method overriding?"
   ]
  },
  {
   "cell_type": "markdown",
   "metadata": {},
   "source": [
    " Method Overloading : \n",
    " Python does not support traditional method overloading where multiple methods have the same name but different signatures. Instead, it uses default arguments or variable-length arguments to handle different cases.\n",
    "\n",
    "Method Overriding:\n",
    " Involves redefining a method in a child class that was already defined in the parent class. The method in the child class replaces the one in the parent class."
   ]
  },
  {
   "cell_type": "code",
   "execution_count": 104,
   "metadata": {},
   "outputs": [
    {
     "name": "stdout",
     "output_type": "stream",
     "text": [
      "Hello\n",
      "Hello, Alice\n"
     ]
    }
   ],
   "source": [
    "class Example:\n",
    "    def greet(self, name=None):\n",
    "        if name:\n",
    "            print(f\"Hello, {name}\")\n",
    "        else:\n",
    "            print(\"Hello\")\n",
    "\n",
    "# Usage\n",
    "e = Example()\n",
    "e.greet()         # No argument\n",
    "e.greet(\"Alice\")  # With argument\n"
   ]
  },
  {
   "cell_type": "markdown",
   "metadata": {},
   "source": [
    "# 16. Explain the purpose of the __init__() method in Python inheritance and how it is utilized in child classes."
   ]
  },
  {
   "cell_type": "markdown",
   "metadata": {},
   "source": [
    "Purpose: The __init__() method is the constructor of a class, responsible for initializing new objects. In inheritance, the child class’s __init__() can call the parent class’s __init__() using super() to ensure the parent’s attributes are set up."
   ]
  },
  {
   "cell_type": "code",
   "execution_count": 105,
   "metadata": {},
   "outputs": [
    {
     "name": "stdout",
     "output_type": "stream",
     "text": [
      "Alice 12\n"
     ]
    }
   ],
   "source": [
    "class Parent:\n",
    "    def __init__(self, name):\n",
    "        self.name = name\n",
    "\n",
    "class Child(Parent):\n",
    "    def __init__(self, name, age):\n",
    "        super().__init__(name)\n",
    "        self.age = age\n",
    "\n",
    "# Usage\n",
    "child = Child(\"Alice\", 12)\n",
    "print(child.name, child.age)\n"
   ]
  },
  {
   "cell_type": "markdown",
   "metadata": {},
   "source": [
    "# 17. Create a Python class called Bird with a method fly(). Then, create child classes Eagle and Sparrow that inherit from Bird and implement the fly() method differently. Provide an example of using these classes."
   ]
  },
  {
   "cell_type": "code",
   "execution_count": 106,
   "metadata": {},
   "outputs": [
    {
     "name": "stdout",
     "output_type": "stream",
     "text": [
      "Eagle soars high in the sky\n",
      "Sparrow flutters around\n"
     ]
    }
   ],
   "source": [
    "class Bird:\n",
    "    def fly(self):\n",
    "        raise NotImplementedError(\"Subclasses must implement this method\")\n",
    "\n",
    "class Eagle(Bird):\n",
    "    def fly(self):\n",
    "        print(\"Eagle soars high in the sky\")\n",
    "\n",
    "class Sparrow(Bird):\n",
    "    def fly(self):\n",
    "        print(\"Sparrow flutters around\")\n",
    "\n",
    "# Usage\n",
    "eagle = Eagle()\n",
    "sparrow = Sparrow()\n",
    "eagle.fly()\n",
    "sparrow.fly()\n"
   ]
  },
  {
   "cell_type": "markdown",
   "metadata": {},
   "source": [
    "# 18. What is the \"diamond problem\" in multiple inheritance, and how does Python address it?"
   ]
  },
  {
   "cell_type": "markdown",
   "metadata": {},
   "source": [
    "- Diamond Problem: Occurs when a class inherits from two classes that have a common ancestor, leading to ambiguity in which path of the inheritance hierarchy should be used to access attributes or methods.\n",
    "\n",
    "- Python’s Solution: Python uses the C3 linearization algorithm to resolve the diamond problem. It ensures a consistent and predictable method resolution order (MRO)."
   ]
  },
  {
   "cell_type": "code",
   "execution_count": 107,
   "metadata": {},
   "outputs": [
    {
     "name": "stdout",
     "output_type": "stream",
     "text": [
      "Method in B\n"
     ]
    }
   ],
   "source": [
    "class A:\n",
    "    def method(self):\n",
    "        print(\"Method in A\")\n",
    "\n",
    "class B(A):\n",
    "    def method(self):\n",
    "        print(\"Method in B\")\n",
    "\n",
    "class C(A):\n",
    "    def method(self):\n",
    "        print(\"Method in C\")\n",
    "\n",
    "class D(B, C):\n",
    "    pass\n",
    "\n",
    "# Usage\n",
    "d = D()\n",
    "d.method()  # Method resolution order determines which method is used\n"
   ]
  },
  {
   "cell_type": "markdown",
   "metadata": {},
   "source": [
    "# 19. Discuss the concept of \"is-a\" and \"has-a\" relationships in inheritance, and provide examples of each."
   ]
  },
  {
   "cell_type": "markdown",
   "metadata": {},
   "source": [
    "\"Is-A\" Relationship: Represents inheritance where a class is a type of another class. It defines a class hierarchy."
   ]
  },
  {
   "cell_type": "code",
   "execution_count": 108,
   "metadata": {},
   "outputs": [],
   "source": [
    "class Animal:\n",
    "    pass\n",
    "\n",
    "class Dog(Animal):  # Dog \"is-a\" Animal\n",
    "    pass\n"
   ]
  },
  {
   "cell_type": "markdown",
   "metadata": {},
   "source": [
    "\"Has-A\" Relationship: Represents composition where a class contains another class as an attribute."
   ]
  },
  {
   "cell_type": "code",
   "execution_count": 109,
   "metadata": {},
   "outputs": [],
   "source": [
    "class Engine:\n",
    "    pass\n",
    "\n",
    "class Car:\n",
    "    def __init__(self):\n",
    "        self.engine = Engine()  # Car \"has-a\" Engine\n"
   ]
  },
  {
   "cell_type": "markdown",
   "metadata": {},
   "source": [
    "# 20. Create a Python class hierarchy for a university system. Start with a base class Person and create child classes Student and Professor, each with their own attributes and methods. Provide an example of using these classes in a university context."
   ]
  },
  {
   "cell_type": "code",
   "execution_count": 110,
   "metadata": {},
   "outputs": [
    {
     "name": "stdout",
     "output_type": "stream",
     "text": [
      "Alice is studying.\n",
      "Professor Dr. Smith is teaching.\n"
     ]
    }
   ],
   "source": [
    "class Person:\n",
    "    def __init__(self, name, age):\n",
    "        self.name = name\n",
    "        self.age = age\n",
    "\n",
    "class Student(Person):\n",
    "    def __init__(self, name, age, student_id):\n",
    "        super().__init__(name, age)\n",
    "        self.student_id = student_id\n",
    "\n",
    "    def study(self):\n",
    "        print(f\"{self.name} is studying.\")\n",
    "\n",
    "class Professor(Person):\n",
    "    def __init__(self, name, age, faculty):\n",
    "        super().__init__(name, age)\n",
    "        self.faculty = faculty\n",
    "\n",
    "    def teach(self):\n",
    "        print(f\"Professor {self.name} is teaching.\")\n",
    "\n",
    "# Usage\n",
    "student = Student(\"Alice\", 20, \"S12345\")\n",
    "professor = Professor(\"Dr. Smith\", 45, \"Physics\")\n",
    "student.study()\n",
    "professor.teach()\n"
   ]
  },
  {
   "cell_type": "markdown",
   "metadata": {},
   "source": [
    "## Polymorphism"
   ]
  },
  {
   "cell_type": "markdown",
   "metadata": {},
   "source": [
    "## 1. What is polymorphism in Python? Explain how it is related to object-oriented programming."
   ]
  },
  {
   "cell_type": "markdown",
   "metadata": {},
   "source": [
    "Ans:\n",
    "Polymorphism in Python refers to the ability to present the same interface for different data types. In object-oriented programming (OOP), polymorphism allows methods to be defined in a way that they can be used interchangeably across different classes. It is achieved through method overriding and operator overloading."
   ]
  },
  {
   "cell_type": "markdown",
   "metadata": {},
   "source": [
    "## 2. Describe the difference between compile-time polymorphism and runtime polymorphism in Python."
   ]
  },
  {
   "cell_type": "markdown",
   "metadata": {},
   "source": [
    "- Compile-time polymorphism: Also known as static polymorphism, it is achieved through method overloading and operator overloading. Python does not support method overloading directly, but you can achieve it through default arguments.\n",
    "\n",
    "- Runtime polymorphism: Also known as dynamic polymorphism, it is achieved through method overriding, where a method in a subclass overrides a method in its superclass."
   ]
  },
  {
   "cell_type": "markdown",
   "metadata": {},
   "source": [
    "## 3. Create a Python class hierarchy for shapes (e.g., circle, square, triangle) and demonstrate polymorphism through a common method, such as calculate_area()."
   ]
  },
  {
   "cell_type": "code",
   "execution_count": 111,
   "metadata": {},
   "outputs": [
    {
     "name": "stdout",
     "output_type": "stream",
     "text": [
      "Area: 78.5\n",
      "Area: 16\n",
      "Area: 9.0\n"
     ]
    }
   ],
   "source": [
    "class Shape:\n",
    "    def calculate_area(self):\n",
    "        pass\n",
    "\n",
    "class Circle(Shape):\n",
    "    def __init__(self, radius):\n",
    "        self.radius = radius\n",
    "    \n",
    "    def calculate_area(self):\n",
    "        return 3.14 * self.radius ** 2\n",
    "\n",
    "class Square(Shape):\n",
    "    def __init__(self, side):\n",
    "        self.side = side\n",
    "    \n",
    "    def calculate_area(self):\n",
    "        return self.side ** 2\n",
    "\n",
    "class Triangle(Shape):\n",
    "    def __init__(self, base, height):\n",
    "        self.base = base\n",
    "        self.height = height\n",
    "    \n",
    "    def calculate_area(self):\n",
    "        return 0.5 * self.base * self.height\n",
    "\n",
    "shapes = [Circle(5), Square(4), Triangle(3, 6)]\n",
    "for shape in shapes:\n",
    "    print(f\"Area: {shape.calculate_area()}\")\n"
   ]
  },
  {
   "cell_type": "markdown",
   "metadata": {},
   "source": [
    "## 4. Explain the concept of method overriding in polymorphism. Provide an example."
   ]
  },
  {
   "cell_type": "markdown",
   "metadata": {},
   "source": [
    "Method overriding occurs when a subclass provides a specific implementation of a method that is already defined in its superclass. This allows the subclass to tailor the method for its own needs while maintaining the same method signature."
   ]
  },
  {
   "cell_type": "code",
   "execution_count": 112,
   "metadata": {},
   "outputs": [
    {
     "name": "stdout",
     "output_type": "stream",
     "text": [
      "Woof!\n",
      "Meow!\n"
     ]
    }
   ],
   "source": [
    "class Animal:\n",
    "    def speak(self):\n",
    "        pass\n",
    "\n",
    "class Dog(Animal):\n",
    "    def speak(self):\n",
    "        return \"Woof!\"\n",
    "\n",
    "class Cat(Animal):\n",
    "    def speak(self):\n",
    "        return \"Meow!\"\n",
    "\n",
    "animals = [Dog(), Cat()]\n",
    "for animal in animals:\n",
    "    print(animal.speak())\n"
   ]
  },
  {
   "cell_type": "markdown",
   "metadata": {},
   "source": [
    "## 5. How is polymorphism different from method overloading in Python? Provide examples for both."
   ]
  },
  {
   "cell_type": "markdown",
   "metadata": {},
   "source": [
    "Ans:\n",
    "\n",
    "- Polymorphism allows different classes to be treated as instances of the same class through a common interface, typically via method overriding.\n",
    "\n",
    "- Method Overloading is the ability to define multiple methods with the same name but different parameters. Python does not support method overloading directly but can be simulated using default arguments"
   ]
  },
  {
   "cell_type": "code",
   "execution_count": 113,
   "metadata": {},
   "outputs": [
    {
     "name": "stdout",
     "output_type": "stream",
     "text": [
      "Woof!\n",
      "Meow!\n"
     ]
    }
   ],
   "source": [
    "# Polymorphism example\n",
    "class Animal:\n",
    "    def speak(self):\n",
    "        pass\n",
    "\n",
    "class Dog(Animal):\n",
    "    def speak(self):\n",
    "        return \"Woof!\"\n",
    "\n",
    "class Cat(Animal):\n",
    "    def speak(self):\n",
    "        return \"Meow!\"\n",
    "\n",
    "animals = [Dog(), Cat()]\n",
    "for animal in animals:\n",
    "    print(animal.speak())\n"
   ]
  },
  {
   "cell_type": "code",
   "execution_count": 114,
   "metadata": {},
   "outputs": [
    {
     "name": "stdout",
     "output_type": "stream",
     "text": [
      "3\n",
      "6\n"
     ]
    }
   ],
   "source": [
    "# method overloading examples\n",
    "class Math:\n",
    "    def add(self, a, b, c=0):\n",
    "        return a + b + c\n",
    "\n",
    "math = Math()\n",
    "print(math.add(1, 2))\n",
    "print(math.add(1, 2, 3))\n"
   ]
  },
  {
   "cell_type": "markdown",
   "metadata": {},
   "source": [
    "## 6. Create a Python class called Animal with a method speak(). Then, create child classes like Dog, Cat, and Bird, each with their own speak() method. Demonstrate polymorphism by calling the speak() method on objects of different subclasses."
   ]
  },
  {
   "cell_type": "code",
   "execution_count": 115,
   "metadata": {},
   "outputs": [
    {
     "name": "stdout",
     "output_type": "stream",
     "text": [
      "Woof!\n",
      "Meow!\n",
      "Chirp!\n"
     ]
    }
   ],
   "source": [
    "class Animal:\n",
    "    def speak(self):\n",
    "        pass\n",
    "\n",
    "class Dog(Animal):\n",
    "    def speak(self):\n",
    "        return \"Woof!\"\n",
    "\n",
    "class Cat(Animal):\n",
    "    def speak(self):\n",
    "        return \"Meow!\"\n",
    "\n",
    "class Bird(Animal):\n",
    "    def speak(self):\n",
    "        return \"Chirp!\"\n",
    "\n",
    "animals = [Dog(), Cat(), Bird()]\n",
    "for animal in animals:\n",
    "    print(animal.speak())\n"
   ]
  },
  {
   "cell_type": "markdown",
   "metadata": {},
   "source": [
    "## 7. Discuss the use of abstract methods and classes in achieving polymorphism in Python. Provide an example using the abc module."
   ]
  },
  {
   "cell_type": "markdown",
   "metadata": {},
   "source": [
    "Abstract classes and methods provide a way to define interfaces in Python. An abstract method is a method that is declared, but contains no implementation. Abstract classes cannot be instantiated directly and require subclasses to provide implementations for the abstract methods."
   ]
  },
  {
   "cell_type": "code",
   "execution_count": 116,
   "metadata": {},
   "outputs": [
    {
     "name": "stdout",
     "output_type": "stream",
     "text": [
      "Woof!\n",
      "Meow!\n"
     ]
    }
   ],
   "source": [
    "from abc import ABC, abstractmethod\n",
    "\n",
    "class Animal(ABC):\n",
    "    @abstractmethod\n",
    "    def speak(self):\n",
    "        pass\n",
    "\n",
    "class Dog(Animal):\n",
    "    def speak(self):\n",
    "        return \"Woof!\"\n",
    "\n",
    "class Cat(Animal):\n",
    "    def speak(self):\n",
    "        return \"Meow!\"\n",
    "\n",
    "animals = [Dog(), Cat()]\n",
    "for animal in animals:\n",
    "    print(animal.speak())\n"
   ]
  },
  {
   "cell_type": "markdown",
   "metadata": {},
   "source": [
    "##  8. Create a Python class hierarchy for a vehicle system (e.g., car, bicycle, boat) and implement a polymorphic start() method that prints a message specific to each vehicle type."
   ]
  },
  {
   "cell_type": "code",
   "execution_count": 117,
   "metadata": {},
   "outputs": [
    {
     "name": "stdout",
     "output_type": "stream",
     "text": [
      "Car is starting with a key.\n",
      "Bicycle is starting by pedaling.\n",
      "Boat is starting with a button.\n"
     ]
    }
   ],
   "source": [
    "class Vehicle:\n",
    "    def start(self):\n",
    "        pass\n",
    "\n",
    "class Car(Vehicle):\n",
    "    def start(self):\n",
    "        return \"Car is starting with a key.\"\n",
    "\n",
    "class Bicycle(Vehicle):\n",
    "    def start(self):\n",
    "        return \"Bicycle is starting by pedaling.\"\n",
    "\n",
    "class Boat(Vehicle):\n",
    "    def start(self):\n",
    "        return \"Boat is starting with a button.\"\n",
    "\n",
    "vehicles = [Car(), Bicycle(), Boat()]\n",
    "for vehicle in vehicles:\n",
    "    print(vehicle.start())"
   ]
  },
  {
   "cell_type": "markdown",
   "metadata": {},
   "source": [
    "## 9. Explain the significance of the isinstance() and issubclass() functions in Python polymorphism."
   ]
  },
  {
   "cell_type": "markdown",
   "metadata": {},
   "source": [
    "- isinstance(): Checks if an object is an instance of a class or a subclass thereof. It is used to ensure that the object being processed is of a specific type.\n",
    "\n",
    "- issubclass(): Checks if a class is a subclass of another class. It is used to verify the inheritance relationship between classes."
   ]
  },
  {
   "cell_type": "code",
   "execution_count": 118,
   "metadata": {},
   "outputs": [
    {
     "name": "stdout",
     "output_type": "stream",
     "text": [
      "True\n",
      "True\n",
      "True\n",
      "False\n"
     ]
    }
   ],
   "source": [
    "class Animal:\n",
    "    pass\n",
    "\n",
    "class Dog(Animal):\n",
    "    pass\n",
    "\n",
    "dog = Dog()\n",
    "print(isinstance(dog, Dog))  # True\n",
    "print(isinstance(dog, Animal))  # True\n",
    "print(issubclass(Dog, Animal))  # True\n",
    "print(issubclass(Animal, Dog))  # False\n"
   ]
  },
  {
   "cell_type": "markdown",
   "metadata": {},
   "source": [
    "## 10. What is the role of the @abstractmethod decorator in achieving polymorphism in Python? Provide an example."
   ]
  },
  {
   "cell_type": "markdown",
   "metadata": {},
   "source": [
    "The @abstractmethod decorator is used to declare a method as abstract. It enforces that subclasses must implement this method, providing a common interface for polymorphism."
   ]
  },
  {
   "cell_type": "code",
   "execution_count": 119,
   "metadata": {},
   "outputs": [
    {
     "name": "stdout",
     "output_type": "stream",
     "text": [
      "Woof!\n",
      "Meow!\n"
     ]
    }
   ],
   "source": [
    "from abc import ABC, abstractmethod\n",
    "\n",
    "class Animal(ABC):\n",
    "    @abstractmethod\n",
    "    def speak(self):\n",
    "        pass\n",
    "\n",
    "class Dog(Animal):\n",
    "    def speak(self):\n",
    "        return \"Woof!\"\n",
    "\n",
    "class Cat(Animal):\n",
    "    def speak(self):\n",
    "        return \"Meow!\"\n",
    "\n",
    "animals = [Dog(), Cat()]\n",
    "for animal in animals:\n",
    "    print(animal.speak())\n"
   ]
  },
  {
   "cell_type": "markdown",
   "metadata": {},
   "source": [
    "## 11. Create a Python class called Shape with a polymorphic method area() that calculates the area of different shapes (e.g., circle, rectangle, triangle)."
   ]
  },
  {
   "cell_type": "code",
   "execution_count": 120,
   "metadata": {},
   "outputs": [
    {
     "name": "stdout",
     "output_type": "stream",
     "text": [
      "Area: 78.5\n",
      "Area: 20\n",
      "Area: 9.0\n"
     ]
    }
   ],
   "source": [
    "class Shape:\n",
    "    def area(self):\n",
    "        pass\n",
    "\n",
    "class Circle(Shape):\n",
    "    def __init__(self, radius):\n",
    "        self.radius = radius\n",
    "    \n",
    "    def area(self):\n",
    "        return 3.14 * self.radius ** 2\n",
    "\n",
    "class Rectangle(Shape):\n",
    "    def __init__(self, width, height):\n",
    "        self.width = width\n",
    "        self.height = height\n",
    "    \n",
    "    def area(self):\n",
    "        return self.width * self.height\n",
    "\n",
    "class Triangle(Shape):\n",
    "    def __init__(self, base, height):\n",
    "        self.base = base\n",
    "        self.height = height\n",
    "    \n",
    "    def area(self):\n",
    "        return 0.5 * self.base * self.height\n",
    "\n",
    "shapes = [Circle(5), Rectangle(4, 5), Triangle(3, 6)]\n",
    "for shape in shapes:\n",
    "    print(f\"Area: {shape.area()}\")\n"
   ]
  },
  {
   "cell_type": "markdown",
   "metadata": {},
   "source": [
    "## 12. Discuss the benefits of polymorphism in terms of code reusability and flexibility in Python programs."
   ]
  },
  {
   "cell_type": "markdown",
   "metadata": {},
   "source": [
    "Benefits of Polymorphism:\n",
    "\n",
    "Code Reusability: Polymorphism allows you to write generic code that works with objects of different types, reducing redundancy and promoting code reuse.\n",
    "Flexibility: It enables you to design systems that can handle new requirements or changes without modifying existing code. Adding new subclasses that conform to the same interface is easy."
   ]
  },
  {
   "cell_type": "markdown",
   "metadata": {},
   "source": [
    "## 13. Explain the use of the super() function in Python polymorphism. How does it help call methods of parent classes?\n"
   ]
  },
  {
   "cell_type": "markdown",
   "metadata": {},
   "source": [
    "The super() function is used to call a method from a parent class. It allows you to access the methods of a superclass in a subclass, enabling you to extend or modify the functionality."
   ]
  },
  {
   "cell_type": "code",
   "execution_count": 121,
   "metadata": {},
   "outputs": [
    {
     "name": "stdout",
     "output_type": "stream",
     "text": [
      "Animal sound Woof!\n"
     ]
    }
   ],
   "source": [
    "class Animal:\n",
    "    def speak(self):\n",
    "        return \"Animal sound\"\n",
    "\n",
    "class Dog(Animal):\n",
    "    def speak(self):\n",
    "        original_sound = super().speak()\n",
    "        return original_sound + \" Woof!\"\n",
    "\n",
    "dog = Dog()\n",
    "print(dog.speak())\n"
   ]
  },
  {
   "cell_type": "markdown",
   "metadata": {},
   "source": [
    "## 14. Create a Python class hierarchy for a banking system with various account types (e.g., savings, checking, credit card) and demonstrate polymorphism by implementing a common withdraw() method."
   ]
  },
  {
   "cell_type": "code",
   "execution_count": 122,
   "metadata": {},
   "outputs": [
    {
     "name": "stdout",
     "output_type": "stream",
     "text": [
      "Withdrawing 100 from Savings Account\n",
      "Withdrawing 100 from Checking Account\n",
      "Withdrawing 100 from Credit Card Account\n"
     ]
    }
   ],
   "source": [
    "class Account:\n",
    "    def withdraw(self, amount):\n",
    "        pass\n",
    "\n",
    "class SavingsAccount(Account):\n",
    "    def withdraw(self, amount):\n",
    "        return f\"Withdrawing {amount} from Savings Account\"\n",
    "\n",
    "class CheckingAccount(Account):\n",
    "    def withdraw(self, amount):\n",
    "        return f\"Withdrawing {amount} from Checking Account\"\n",
    "\n",
    "class CreditCardAccount(Account):\n",
    "    def withdraw(self, amount):\n",
    "        return f\"Withdrawing {amount} from Credit Card Account\"\n",
    "\n",
    "accounts = [SavingsAccount(), CheckingAccount(), CreditCardAccount()]\n",
    "for account in accounts:\n",
    "    print(account.withdraw(100))\n"
   ]
  },
  {
   "cell_type": "markdown",
   "metadata": {},
   "source": [
    "## 15. Describe the concept of operator overloading in Python and how it relates to polymorphism. Provide examples using operators like + and *."
   ]
  },
  {
   "cell_type": "markdown",
   "metadata": {},
   "source": [
    "Operator Overloading allows you to define custom behavior for operators (+, *, etc.) in your classes. It is a form of polymorphism where operators are overloaded to work with user-defined types."
   ]
  },
  {
   "cell_type": "code",
   "execution_count": 123,
   "metadata": {},
   "outputs": [
    {
     "name": "stdout",
     "output_type": "stream",
     "text": [
      "Vector(6, 8)\n",
      "Vector(6, 9)\n"
     ]
    }
   ],
   "source": [
    "class Vector:\n",
    "    def __init__(self, x, y):\n",
    "        self.x = x\n",
    "        self.y = y\n",
    "\n",
    "    def __add__(self, other):\n",
    "        return Vector(self.x + other.x, self.y + other.y)\n",
    "\n",
    "    def __mul__(self, scalar):\n",
    "        return Vector(self.x * scalar, self.y * scalar)\n",
    "\n",
    "    def __str__(self):\n",
    "        return f\"Vector({self.x}, {self.y})\"\n",
    "\n",
    "v1 = Vector(2, 3)\n",
    "v2 = Vector(4, 5)\n",
    "print(v1 + v2) \n",
    "print(v1 * 3)   \n"
   ]
  },
  {
   "cell_type": "markdown",
   "metadata": {},
   "source": [
    "## 16. What is dynamic polymorphism, and how is it achieved in Python?"
   ]
  },
  {
   "cell_type": "markdown",
   "metadata": {},
   "source": [
    "Dynamic Polymorphism refers to the ability of objects to be processed differently based on their runtime type. It is achieved through method overriding, where the method to be invoked is determined at runtime."
   ]
  },
  {
   "cell_type": "markdown",
   "metadata": {},
   "source": [
    "## 17. Create a Python class hierarchy for employees in a company (e.g., manager, developer, designer) and implement polymorphism through a common calculate_salary() method.\n",
    "Example:"
   ]
  },
  {
   "cell_type": "code",
   "execution_count": 124,
   "metadata": {},
   "outputs": [
    {
     "name": "stdout",
     "output_type": "stream",
     "text": [
      "Calculating salary for Manager\n",
      "Calculating salary for Developer\n",
      "Calculating salary for Designer\n"
     ]
    }
   ],
   "source": [
    "class Employee:\n",
    "    def calculate_salary(self):\n",
    "        pass\n",
    "\n",
    "class Manager(Employee):\n",
    "    def calculate_salary(self):\n",
    "        return \"Calculating salary for Manager\"\n",
    "\n",
    "class Developer(Employee):\n",
    "    def calculate_salary(self):\n",
    "        return \"Calculating salary for Developer\"\n",
    "\n",
    "class Designer(Employee):\n",
    "    def calculate_salary(self):\n",
    "        return \"Calculating salary for Designer\"\n",
    "\n",
    "employees = [Manager(), Developer(), Designer()]\n",
    "for employee in employees:\n",
    "    print(employee.calculate_salary())\n"
   ]
  },
  {
   "cell_type": "markdown",
   "metadata": {},
   "source": [
    "## 18. Discuss the concept of function pointers and how they can be used to achieve polymorphism in Python."
   ]
  },
  {
   "cell_type": "markdown",
   "metadata": {},
   "source": [
    "Function Pointers: In Python, functions are first-class objects, which means they can be passed around and used as arguments. This allows you to achieve polymorphism by dynamically selecting the function to call."
   ]
  },
  {
   "cell_type": "code",
   "execution_count": 125,
   "metadata": {},
   "outputs": [
    {
     "name": "stdout",
     "output_type": "stream",
     "text": [
      "5\n",
      "6\n"
     ]
    }
   ],
   "source": [
    "def add(a, b):\n",
    "    return a + b\n",
    "\n",
    "def multiply(a, b):\n",
    "    return a * b\n",
    "\n",
    "def execute_operation(operation, a, b):\n",
    "    return operation(a, b)\n",
    "\n",
    "print(execute_operation(add, 2, 3))       # 5\n",
    "print(execute_operation(multiply, 2, 3))  # 6\n"
   ]
  },
  {
   "cell_type": "markdown",
   "metadata": {},
   "source": [
    "## 19. Explain the role of interfaces and abstract classes in polymorphism, drawing comparisons between them."
   ]
  },
  {
   "cell_type": "markdown",
   "metadata": {},
   "source": [
    "`Abstract Classes` provide a way to define a common interface for a group of related classes. They can include both abstract methods (without implementation) and concrete methods (with implementation).\n",
    "\n",
    "`Interfaces` (conceptually similar to abstract classes) enforce that classes must implement specific methods. Python uses abstract base classes (ABCs) to achieve similar functionality.\n",
    "\n",
    "Comparison:\n",
    "\n",
    "- Abstract classes can have both implemented and abstract methods.\n",
    "- Interfaces (as in other languages) would only have abstract methods, but Python's ABCs allow for similar enforcement."
   ]
  },
  {
   "cell_type": "markdown",
   "metadata": {},
   "source": [
    "## 20. Create a Python class for a zoo simulation, demonstrating polymorphism with different animal classes.\n",
    "Example:"
   ]
  },
  {
   "cell_type": "code",
   "execution_count": 126,
   "metadata": {},
   "outputs": [
    {
     "name": "stdout",
     "output_type": "stream",
     "text": [
      "Roar!\n",
      "Trumpet!\n",
      "Chatter!\n"
     ]
    }
   ],
   "source": [
    "class Animal:\n",
    "    def make_sound(self):\n",
    "        pass\n",
    "\n",
    "class Lion(Animal):\n",
    "    def make_sound(self):\n",
    "        return \"Roar!\"\n",
    "\n",
    "class Elephant(Animal):\n",
    "    def make_sound(self):\n",
    "        return \"Trumpet!\"\n",
    "\n",
    "class Monkey(Animal):\n",
    "    def make_sound(self):\n",
    "        return \"Chatter!\"\n",
    "\n",
    "zoo = [Lion(), Elephant(), Monkey()]\n",
    "for animal in zoo:\n",
    "    print(animal.make_sound())\n"
   ]
  },
  {
   "cell_type": "markdown",
   "metadata": {},
   "source": [
    "# Encapsulation"
   ]
  },
  {
   "cell_type": "markdown",
   "metadata": {},
   "source": [
    "## 1. Explain the concept of encapsulation in Python. What is its role in object-oriented programming?\n"
   ]
  },
  {
   "cell_type": "markdown",
   "metadata": {},
   "source": [
    "Ans:\n",
    "\n",
    "Encapsulation is an object-oriented programming (OOP) principle that bundles the data (attributes) and methods (functions) that operate on the data into a single unit or class. It restricts direct access to some of the object's components, which can help prevent the accidental modification of data. Encapsulation helps in organizing and managing the complexity of software systems by creating a clear structure and improving code maintainability and security."
   ]
  },
  {
   "cell_type": "markdown",
   "metadata": {},
   "source": [
    "## 2. Describe the key principles of encapsulation, including access control and data hiding."
   ]
  },
  {
   "cell_type": "markdown",
   "metadata": {},
   "source": [
    "Ans:\n",
    "\n",
    "- Access Control: This controls how the attributes and methods of a class can be accessed. It includes public, protected, and private access modifiers.\n",
    "- Data Hiding: This involves hiding the internal state of an object and requiring all interaction to be performed through an object's methods. This protects the integrity of the data by preventing external code from directly accessing and modifying it.\n"
   ]
  },
  {
   "cell_type": "markdown",
   "metadata": {},
   "source": [
    "## 3. How can you achieve encapsulation in Python classes? Provide an example."
   ]
  },
  {
   "cell_type": "markdown",
   "metadata": {},
   "source": [
    "You can achieve encapsulation in Python using access modifiers: public, protected, and private.\n",
    "\n",
    "Example:"
   ]
  },
  {
   "cell_type": "code",
   "execution_count": 127,
   "metadata": {},
   "outputs": [
    {
     "name": "stdout",
     "output_type": "stream",
     "text": [
      "Name: Alice, Age: 30\n"
     ]
    }
   ],
   "source": [
    "class Person:\n",
    "    def __init__(self, name, age):\n",
    "        self.name = name  # Public attribute\n",
    "        self._age = age   # Protected attribute\n",
    "\n",
    "    def display(self):\n",
    "        print(f\"Name: {self.name}, Age: {self._age}\")\n",
    "\n",
    "person = Person(\"Alice\", 30)\n",
    "person.display()\n"
   ]
  },
  {
   "cell_type": "markdown",
   "metadata": {},
   "source": [
    "# 4. Discuss the difference between public, private, and protected access modifiers in Python."
   ]
  },
  {
   "cell_type": "markdown",
   "metadata": {},
   "source": [
    "Ans:\n",
    "\n",
    "- Public: Attributes and methods are accessible from anywhere. In Python, all attributes and methods are public by default.\n",
    "- Protected: Attributes and methods are accessible within the class and its subclasses. In Python, they are indicated by a single underscore prefix (e.g., _attribute).\n",
    "- Private: Attributes and methods are accessible only within the class itself. In Python, they are indicated by a double underscore prefix (e.g., __attribute)."
   ]
  },
  {
   "cell_type": "markdown",
   "metadata": {},
   "source": [
    "## 5. Create a Python class called Person with a private attribute __name. Provide methods to get and set the name attribute."
   ]
  },
  {
   "cell_type": "code",
   "execution_count": 128,
   "metadata": {},
   "outputs": [
    {
     "name": "stdout",
     "output_type": "stream",
     "text": [
      "John\n",
      "Jane\n"
     ]
    }
   ],
   "source": [
    "class Person:\n",
    "    def __init__(self, name):\n",
    "        self.__name = name  # Private attribute\n",
    "\n",
    "    def get_name(self):\n",
    "        return self.__name\n",
    "\n",
    "    def set_name(self, name):\n",
    "        self.__name = name\n",
    "\n",
    "person = Person(\"John\")\n",
    "print(person.get_name())\n",
    "person.set_name(\"Jane\")\n",
    "print(person.get_name())\n"
   ]
  },
  {
   "cell_type": "markdown",
   "metadata": {},
   "source": [
    "## 6. Explain the purpose of getter and setter methods in encapsulation. Provide examples."
   ]
  },
  {
   "cell_type": "markdown",
   "metadata": {},
   "source": [
    "Purpose: Getter and setter methods control access to an object's attributes. They provide a way to read (get) or modify (set) the values of private attributes, ensuring that any necessary validation or processing is done."
   ]
  },
  {
   "cell_type": "code",
   "execution_count": 129,
   "metadata": {},
   "outputs": [
    {
     "name": "stdout",
     "output_type": "stream",
     "text": [
      "25\n",
      "30\n",
      "Invalid age\n"
     ]
    }
   ],
   "source": [
    "class Person:\n",
    "    def __init__(self, age):\n",
    "        self.__age = age\n",
    "\n",
    "    def get_age(self):\n",
    "        return self.__age\n",
    "\n",
    "    def set_age(self, age):\n",
    "        if age > 0:\n",
    "            self.__age = age\n",
    "        else:\n",
    "            print(\"Invalid age\")\n",
    "\n",
    "person = Person(25)\n",
    "print(person.get_age())\n",
    "person.set_age(30)\n",
    "print(person.get_age())\n",
    "person.set_age(-5) "
   ]
  },
  {
   "cell_type": "markdown",
   "metadata": {},
   "source": [
    "## 7. What is name mangling in Python, and how does it affect encapsulation ?"
   ]
  },
  {
   "cell_type": "markdown",
   "metadata": {},
   "source": [
    "- Name Mangling: Python internally changes the name of private attributes to include the class name. This is done to avoid name clashes in subclasses. It allows private attributes to be accessed using a special syntax, but it is not intended for regular use."
   ]
  },
  {
   "cell_type": "code",
   "execution_count": 130,
   "metadata": {},
   "outputs": [
    {
     "name": "stdout",
     "output_type": "stream",
     "text": [
      "Alice\n"
     ]
    }
   ],
   "source": [
    "class Person:\n",
    "    def __init__(self, name):\n",
    "        self.__name = name\n",
    "\n",
    "person = Person(\"Alice\")\n",
    "print(person._Person__name)  # Accessing private attribute using name mangling\n"
   ]
  },
  {
   "cell_type": "markdown",
   "metadata": {},
   "source": [
    "## 8. Create a Python class called BankAccount with private attributes for the account balance (__balance) and account number (__account_number). Provide methods for depositing and withdrawing money."
   ]
  },
  {
   "cell_type": "code",
   "execution_count": 145,
   "metadata": {},
   "outputs": [],
   "source": [
    "class BankAccount:\n",
    "    def __init__(self, balance , account_number):\n",
    "        self.__balance = balance\n",
    "        self.__account_number = account_number\n",
    "\n",
    "    def deposit(self,amount):\n",
    "        if amount>0:\n",
    "            self.__balance+=amount\n",
    "            return f\"after deposit remaining amount: {self.__balance} \"\n",
    "            \n",
    "\n",
    "        else:\n",
    "            print(\"Invalid deposit amount\")\n",
    "\n",
    "\n",
    "    def withdrawing_money(self,amount):\n",
    "        if 0 > amount >= self.__account_number:\n",
    "            self.__balance-=amount\n",
    "            return \"after deposit remaining amount: \"+self.__balance\n",
    "\n",
    "        else:\n",
    "            print(\"Invalid withdraw amount or insufficient funds\") \n",
    "\n",
    "    def check_amount(self):\n",
    "        return self.__balance                    \n",
    "\n",
    "                 "
   ]
  },
  {
   "cell_type": "code",
   "execution_count": 146,
   "metadata": {},
   "outputs": [],
   "source": [
    "b1 = BankAccount(50000 , \"12345\")"
   ]
  },
  {
   "cell_type": "code",
   "execution_count": 147,
   "metadata": {},
   "outputs": [
    {
     "data": {
      "text/plain": [
       "50000"
      ]
     },
     "execution_count": 147,
     "metadata": {},
     "output_type": "execute_result"
    }
   ],
   "source": [
    "b1.check_amount()"
   ]
  },
  {
   "cell_type": "code",
   "execution_count": 148,
   "metadata": {},
   "outputs": [
    {
     "data": {
      "text/plain": [
       "'after deposit remaining amount: 55000 '"
      ]
     },
     "execution_count": 148,
     "metadata": {},
     "output_type": "execute_result"
    }
   ],
   "source": [
    "b1.deposit(5000)"
   ]
  },
  {
   "cell_type": "markdown",
   "metadata": {},
   "source": [
    "## 9. Discuss the advantages of encapsulation in terms of code maintainability and security."
   ]
  },
  {
   "cell_type": "markdown",
   "metadata": {},
   "source": [
    "ans:\n",
    "- Code Maintainability: Encapsulation allows you to modify and update code without affecting other parts of the program. Changes to the internal implementation of a class do not impact the code that uses the class.\n",
    "- Security: Encapsulation restricts direct access to an object's data, protecting it from unintended or harmful modifications. It ensures that data is accessed and modified through well-defined interfaces."
   ]
  },
  {
   "cell_type": "markdown",
   "metadata": {},
   "source": [
    "## 10. How can you access private attributes in Python? Provide an example demonstrating the use of name mangling."
   ]
  },
  {
   "cell_type": "code",
   "execution_count": 149,
   "metadata": {},
   "outputs": [
    {
     "name": "stdout",
     "output_type": "stream",
     "text": [
      "Alice\n"
     ]
    }
   ],
   "source": [
    "class Person:\n",
    "    def __init__(self, name):\n",
    "        self.__name = name  # Private attribute\n",
    "\n",
    "    def get_name(self):\n",
    "        return self.__name\n",
    "\n",
    "person = Person(\"Alice\")\n",
    "print(person._Person__name)  # Accessing private attribute using name mangling\n"
   ]
  },
  {
   "cell_type": "markdown",
   "metadata": {},
   "source": [
    "## 11. Create a Python class hierarchy for a school system, including classes for students, teachers, and courses, and implement encapsulation principles to protect sensitive information."
   ]
  },
  {
   "cell_type": "code",
   "execution_count": 155,
   "metadata": {},
   "outputs": [],
   "source": [
    "class Person:\n",
    "    def __init__(self,name ,age):\n",
    "        self._name = name\n",
    "        self._age = age\n",
    "\n",
    "class Student(Person):\n",
    "    def __init__(self,name , age, student_id):\n",
    "        super().__init__(name,age)\n",
    "        self.__student_id = student_id\n",
    "    def get_student_id(self):\n",
    "        return self.__student_id\n",
    "\n",
    "class Teacher(Person):\n",
    "    def __init__(self,name,age,employee_id):\n",
    "        super().__init__(name,age)\n",
    "        self.__employee_id = employee_id\n",
    "    def get_employee_id(self):\n",
    "        return self.__employee_id\n",
    "\n",
    "class Course:\n",
    "    def __init__(self,course_name, teacher):\n",
    "        self.course_name = course_name\n",
    "        self.__teacher = teacher\n",
    "\n",
    "    def get_teacher(self):\n",
    "        return self.__teacher\n",
    "\n",
    "\n"
   ]
  },
  {
   "cell_type": "code",
   "execution_count": 156,
   "metadata": {},
   "outputs": [],
   "source": [
    "student = Student(\"Rupesh\",20,\"r123\")\n",
    "teacher = Teacher(\"Mr. Ramu\" , 40,\"t123\")\n",
    "course = Course(\"Math\",\"teacher\")"
   ]
  },
  {
   "cell_type": "code",
   "execution_count": 161,
   "metadata": {},
   "outputs": [
    {
     "name": "stdout",
     "output_type": "stream",
     "text": [
      "r123\n",
      "t123\n",
      "teacher\n"
     ]
    }
   ],
   "source": [
    "print(student.get_student_id())\n",
    "print(teacher.get_employee_id())\n",
    "print(course.get_teacher())"
   ]
  },
  {
   "cell_type": "markdown",
   "metadata": {},
   "source": [
    "## 12. Explain the concept of property decorators in Python and how they relate to encapsulation."
   ]
  },
  {
   "cell_type": "markdown",
   "metadata": {},
   "source": [
    "- Property Decorators: Property decorators (@property) are used to define getter, setter, and deleter methods in a class. They provide a Pythonic way to encapsulate instance variables by allowing you to access them like attributes while still using methods for control."
   ]
  },
  {
   "cell_type": "code",
   "execution_count": 168,
   "metadata": {},
   "outputs": [
    {
     "name": "stdout",
     "output_type": "stream",
     "text": [
      "Alice\n",
      "Bob1\n"
     ]
    }
   ],
   "source": [
    "class Person:\n",
    "    def __init__(self, name):\n",
    "        self.__name = name\n",
    "\n",
    "    @property\n",
    "    def name(self):\n",
    "        return self.__name\n",
    "\n",
    "    @name.setter\n",
    "    def name(self, name):\n",
    "        self.__name = name\n",
    "\n",
    "    @name.getter\n",
    "    def name(self):\n",
    "        return self.__name    \n",
    "\n",
    "person = Person(\"Alice\")\n",
    "print(person.name)  \n",
    "person.name = \"Bob\"  \n",
    "print(person.name)\n",
    "\n"
   ]
  },
  {
   "cell_type": "markdown",
   "metadata": {},
   "source": [
    "## 13. What is data hiding, and why is it important in encapsulation? Provide examples."
   ]
  },
  {
   "cell_type": "markdown",
   "metadata": {},
   "source": [
    "- Data Hiding: Data hiding restricts access to certain attributes and methods to prevent direct manipulation. It is important because it protects the integrity of the data, ensures controlled access, and hides implementation details from the user."
   ]
  },
  {
   "cell_type": "code",
   "execution_count": 169,
   "metadata": {},
   "outputs": [
    {
     "name": "stdout",
     "output_type": "stream",
     "text": [
      "100\n",
      "150\n"
     ]
    }
   ],
   "source": [
    "class BankAccount:\n",
    "    def __init__(self, balance):\n",
    "        self.__balance = balance  # Private attribute\n",
    "\n",
    "    def deposit(self, amount):\n",
    "        if amount > 0:\n",
    "            self.__balance += amount\n",
    "\n",
    "    def get_balance(self):\n",
    "        return self.__balance\n",
    "\n",
    "account = BankAccount(100)\n",
    "print(account.get_balance())\n",
    "account.deposit(50)\n",
    "print(account.get_balance())\n",
    "# print(account.__balance)  # This will raise an AttributeError\n"
   ]
  },
  {
   "cell_type": "markdown",
   "metadata": {},
   "source": [
    "## 14. Create a Python class called Employee with private attributes for salary (__salary) and employee ID (__employee_id). Provide a method to calculate yearly bonuses."
   ]
  },
  {
   "cell_type": "code",
   "execution_count": 170,
   "metadata": {},
   "outputs": [],
   "source": [
    "class Employee:\n",
    "    def __init__(self,employee_id,salary):\n",
    "        self.__employee_id = employee_id\n",
    "        self.__salary = salary\n",
    "\n",
    "    def calculate_bonus(self):\n",
    "        return self.__salary*0.01\n",
    "        "
   ]
  },
  {
   "cell_type": "code",
   "execution_count": 171,
   "metadata": {},
   "outputs": [],
   "source": [
    "employee = Employee(\"E123\", 50000)"
   ]
  },
  {
   "cell_type": "code",
   "execution_count": 172,
   "metadata": {},
   "outputs": [
    {
     "data": {
      "text/plain": [
       "500.0"
      ]
     },
     "execution_count": 172,
     "metadata": {},
     "output_type": "execute_result"
    }
   ],
   "source": [
    "employee.calculate_bonus()"
   ]
  },
  {
   "cell_type": "markdown",
   "metadata": {},
   "source": [
    "## 15. Discuss the use of accessors and mutators in encapsulation. How do they help maintain control over attribute access?"
   ]
  },
  {
   "cell_type": "markdown",
   "metadata": {},
   "source": [
    "Accessors (getters) and Mutators (setters) are methods used to read and modify private attributes, respectively. They help maintain control over attribute access by providing a way to enforce validation, logging, or other logic when attributes are accessed or modified."
   ]
  },
  {
   "cell_type": "code",
   "execution_count": 173,
   "metadata": {},
   "outputs": [
    {
     "name": "stdout",
     "output_type": "stream",
     "text": [
      "25\n",
      "30\n",
      "Invalid age\n"
     ]
    }
   ],
   "source": [
    "class Person:\n",
    "    def __init__(self, age):\n",
    "        self.__age = age\n",
    "\n",
    "    def get_age(self):\n",
    "        return self.__age\n",
    "\n",
    "    def set_age(self, age):\n",
    "        if age > 0:\n",
    "            self.__age = age\n",
    "        else:\n",
    "            print(\"Invalid age\")\n",
    "\n",
    "person = Person(25)\n",
    "print(person.get_age())\n",
    "person.set_age(30)\n",
    "print(person.get_age())\n",
    "person.set_age(-5) \n"
   ]
  },
  {
   "cell_type": "markdown",
   "metadata": {},
   "source": [
    "## 16. What are the potential drawbacks or disadvantages of using encapsulation in Python?"
   ]
  },
  {
   "cell_type": "markdown",
   "metadata": {},
   "source": [
    "Ans:\n",
    "\n",
    "- Increased Complexity: Encapsulation can add complexity to the code, making it harder to understand and maintain.\n",
    "- Performance Overhead: The use of getters and setters can introduce a slight performance overhead compared to direct attribute access.\n",
    "- Limited Flexibility: Restricting access to attributes can sometimes limit flexibility, making it harder to perform certain operations that require direct access to the data."
   ]
  },
  {
   "cell_type": "markdown",
   "metadata": {},
   "source": [
    "## 17. Create a Python class for a library system that encapsulates book information, including titles, authors, and availability status."
   ]
  },
  {
   "cell_type": "code",
   "execution_count": 174,
   "metadata": {},
   "outputs": [
    {
     "name": "stdout",
     "output_type": "stream",
     "text": [
      "True\n",
      "False\n",
      "True\n"
     ]
    }
   ],
   "source": [
    "class Book:\n",
    "    def __init__(self, title, author, available=True):\n",
    "        self.__title = title\n",
    "        self.__author = author\n",
    "        self.__available = available\n",
    "\n",
    "    def is_available(self):\n",
    "        return self.__available\n",
    "\n",
    "    def borrow_book(self):\n",
    "        if self.__available:\n",
    "            self.__available = False\n",
    "        else:\n",
    "            print(\"Book is not available\")\n",
    "\n",
    "    def return_book(self):\n",
    "        self.__available = True\n",
    "\n",
    "book = Book(\"1984\", \"George Orwell\")\n",
    "print(book.is_available())\n",
    "book.borrow_book()\n",
    "print(book.is_available())\n",
    "book.return_book()\n",
    "print(book.is_available())\n"
   ]
  },
  {
   "cell_type": "markdown",
   "metadata": {},
   "source": [
    "## 18. Explain how encapsulation enhances code reusability and modularity in Python programs."
   ]
  },
  {
   "cell_type": "markdown",
   "metadata": {},
   "source": [
    "Encapsulation enhances code reusability and modularity by:\n",
    "\n",
    "- Reusability: Encapsulated classes can be reused across different programs without modification.\n",
    "- Modularity: Encapsulation divides the program into distinct, manageable modules, each with its own responsibilities. This makes it easier to understand, maintain, and debug the code."
   ]
  },
  {
   "cell_type": "markdown",
   "metadata": {},
   "source": [
    "## 19. Describe the concept of information hiding in encapsulation. Why is it essential in software development?"
   ]
  },
  {
   "cell_type": "markdown",
   "metadata": {},
   "source": [
    "Ans:\n",
    "\n",
    "- Information Hiding: Information hiding is the principle of restricting access to the internal state and implementation details of an object. It is essential because it:\n",
    "\n",
    "    - Protects the integrity of the data by preventing unintended or unauthorized modifications.\n",
    "    - Simplifies the interface for interacting with the object, making it easier for developers to use.\n",
    "    - Promotes modularity and reduces the impact of changes in the internal implementation on other parts of the program."
   ]
  },
  {
   "cell_type": "markdown",
   "metadata": {},
   "source": [
    "## 20. Create a Python class called Customer with private attributes for customer details like name, address, and contact information. Implement encapsulation to ensure data integrity and security."
   ]
  },
  {
   "cell_type": "code",
   "execution_count": 176,
   "metadata": {},
   "outputs": [
    {
     "name": "stdout",
     "output_type": "stream",
     "text": [
      "Alice\n",
      "123 Main St\n",
      "555-1234\n",
      "Bob\n"
     ]
    }
   ],
   "source": [
    "class Customer:\n",
    "    def __init__(self, name, address, contact_info):\n",
    "        self.__name = name\n",
    "        self.__address = address\n",
    "        self.__contact_info = contact_info\n",
    "\n",
    "    def get_name(self):\n",
    "        return self.__name\n",
    "\n",
    "    def set_name(self, name):\n",
    "        self.__name = name\n",
    "\n",
    "    def get_address(self):\n",
    "        return self.__address\n",
    "\n",
    "    def set_address(self, address):\n",
    "        self.__address = address\n",
    "\n",
    "    def get_contact_info(self):\n",
    "        return self.__contact_info\n",
    "\n",
    "    def set_contact_info(self, contact_info):\n",
    "        self.__contact_info = contact_info\n",
    "\n",
    "customer = Customer(\"Alice\", \"123 Main St\", \"555-1234\")\n",
    "print(customer.get_name())\n",
    "print(customer.get_address())\n",
    "print(customer.get_contact_info())\n",
    "customer.set_name(\"Bob\")\n",
    "print(customer.get_name())\n"
   ]
  },
  {
   "cell_type": "markdown",
   "metadata": {},
   "source": [
    "# Abstraction"
   ]
  },
  {
   "cell_type": "markdown",
   "metadata": {},
   "source": [
    "## 1. What is abstraction in Python, and how does it relate to object-oriented programming?"
   ]
  },
  {
   "cell_type": "markdown",
   "metadata": {},
   "source": [
    "Ans:\n",
    "Abstraction is an OOP principle that involves hiding the complex implementation details of a system and exposing only the necessary and relevant features. In Python, abstraction is achieved using abstract classes and methods, allowing you to define a blueprint for other classes. This helps in focusing on what an object does instead of how it does it."
   ]
  },
  {
   "cell_type": "markdown",
   "metadata": {},
   "source": [
    "## 2. Describe the benefits of abstraction in terms of code organization and complexity reduction. "
   ]
  },
  {
   "cell_type": "markdown",
   "metadata": {},
   "source": [
    "Benefits of Abstraction:\n",
    "\n",
    "- Improves Code Organization: By separating the interface from the implementation, abstraction allows you to organize your code more efficiently.\n",
    "- Reduces Complexity: It simplifies the coding process by allowing developers to focus on high-level operations without worrying about the underlying complexities.\n",
    "- Enhances Maintainability: Changes to the implementation do not affect the interface, making maintenance easier.\n",
    "- Promotes Reusability: Abstract classes and methods can be reused across different parts of an application."
   ]
  },
  {
   "cell_type": "markdown",
   "metadata": {},
   "source": [
    "## 3. Create a Python class called Shape with an abstract method calculate_area(). Then, create child classes (e.g., Circle, Rectangle) that implement the calculate_area() method. Provide an example of using these classes."
   ]
  },
  {
   "cell_type": "code",
   "execution_count": 177,
   "metadata": {},
   "outputs": [
    {
     "name": "stdout",
     "output_type": "stream",
     "text": [
      "78.5\n",
      "24\n"
     ]
    }
   ],
   "source": [
    "from abc import ABC, abstractmethod\n",
    "\n",
    "class Shape(ABC):\n",
    "    @abstractmethod\n",
    "    def calculate_area(self):\n",
    "        pass\n",
    "\n",
    "class Circle(Shape):\n",
    "    def __init__(self, radius):\n",
    "        self.radius = radius\n",
    "\n",
    "    def calculate_area(self):\n",
    "        return 3.14 * (self.radius ** 2)\n",
    "\n",
    "class Rectangle(Shape):\n",
    "    def __init__(self, width, height):\n",
    "        self.width = width\n",
    "        self.height = height\n",
    "\n",
    "    def calculate_area(self):\n",
    "        return self.width * self.height\n",
    "\n",
    "# Example usage\n",
    "shapes = [Circle(5), Rectangle(4, 6)]\n",
    "\n",
    "for shape in shapes:\n",
    "    print(shape.calculate_area())\n"
   ]
  },
  {
   "cell_type": "markdown",
   "metadata": {},
   "source": [
    "## 4. Explain the concept of abstract classes in Python and how they are defined using the abc module. Provide an example."
   ]
  },
  {
   "cell_type": "markdown",
   "metadata": {},
   "source": [
    "Ans:\n",
    "Abstract Classes: These cannot be instantiated and are used to define a common interface for its subclasses. They are defined using the abc module."
   ]
  },
  {
   "cell_type": "code",
   "execution_count": 178,
   "metadata": {},
   "outputs": [
    {
     "name": "stdout",
     "output_type": "stream",
     "text": [
      "Woof\n",
      "Meow\n"
     ]
    }
   ],
   "source": [
    "from abc import ABC, abstractmethod\n",
    "\n",
    "class Animal(ABC):\n",
    "    @abstractmethod\n",
    "    def make_sound(self):\n",
    "        pass\n",
    "\n",
    "class Dog(Animal):\n",
    "    def make_sound(self):\n",
    "        return \"Woof\"\n",
    "\n",
    "class Cat(Animal):\n",
    "    def make_sound(self):\n",
    "        return \"Meow\"\n",
    "\n",
    "# Example usage\n",
    "animals = [Dog(), Cat()]\n",
    "\n",
    "for animal in animals:\n",
    "    print(animal.make_sound())"
   ]
  },
  {
   "cell_type": "markdown",
   "metadata": {},
   "source": [
    "## 5. How do abstract classes differ from regular classes in Python? Discuss their use cases."
   ]
  },
  {
   "cell_type": "markdown",
   "metadata": {},
   "source": [
    "Differences:\n",
    "\n",
    "- Abstract Classes: Cannot be instantiated, used to define common interfaces.\n",
    "- Regular Classes: Can be instantiated, contain complete implementations.\n",
    "\n",
    "Use Cases:\n",
    "\n",
    "- Abstract Classes: When you want to define a common API for a set of subclasses.\n",
    "- Regular Classes: When you need to create concrete objects with specific implementations."
   ]
  },
  {
   "cell_type": "markdown",
   "metadata": {},
   "source": [
    "## 6. Create a Python class for a bank account and demonstrate abstraction by hiding the account balance and providing methods to deposit and withdraw funds."
   ]
  },
  {
   "cell_type": "code",
   "execution_count": 179,
   "metadata": {},
   "outputs": [
    {
     "name": "stdout",
     "output_type": "stream",
     "text": [
      "1200\n"
     ]
    }
   ],
   "source": [
    "from abc import ABC, abstractmethod\n",
    "\n",
    "class Account(ABC):\n",
    "    @abstractmethod\n",
    "    def deposit(self, amount):\n",
    "        pass\n",
    "\n",
    "    @abstractmethod\n",
    "    def withdraw(self, amount):\n",
    "        pass\n",
    "\n",
    "    @abstractmethod\n",
    "    def get_balance(self):\n",
    "        pass\n",
    "\n",
    "class BankAccount(Account):\n",
    "    def __init__(self, account_number, balance=0):\n",
    "        self.__account_number = account_number\n",
    "        self.__balance = balance\n",
    "\n",
    "    def deposit(self, amount):\n",
    "        if amount > 0:\n",
    "            self.__balance += amount\n",
    "\n",
    "    def withdraw(self, amount):\n",
    "        if 0 < amount <= self.__balance:\n",
    "            self.__balance -= amount\n",
    "\n",
    "    def get_balance(self):\n",
    "        return self.__balance\n",
    "\n",
    "# Example usage\n",
    "account = BankAccount(\"12345\", 1000)\n",
    "account.deposit(500)\n",
    "account.withdraw(300)\n",
    "print(account.get_balance())\n"
   ]
  },
  {
   "cell_type": "markdown",
   "metadata": {},
   "source": [
    "## 7. Discuss the concept of interface classes in Python and their role in achieving abstraction."
   ]
  },
  {
   "cell_type": "markdown",
   "metadata": {},
   "source": [
    "Interface Classes: In Python, interfaces can be achieved using abstract classes. They define methods that must be implemented by any subclass, enforcing a contract for what the class should do.\n",
    "\n",
    "Role:\n",
    "\n",
    "- Defines a contract: Specifies a set of methods that implementing classes must provide.\n",
    "- Ensures consistency: Helps ensure that different classes follow a consistent interface."
   ]
  },
  {
   "cell_type": "markdown",
   "metadata": {},
   "source": [
    "## 8. Create a Python class hierarchy for animals and implement abstraction by defining common methods (e.g., eat(), sleep()) in an abstract base class."
   ]
  },
  {
   "cell_type": "code",
   "execution_count": 180,
   "metadata": {},
   "outputs": [
    {
     "name": "stdout",
     "output_type": "stream",
     "text": [
      "Dog is eating\n",
      "Dog is sleeping\n",
      "Cat is eating\n",
      "Cat is sleeping\n"
     ]
    }
   ],
   "source": [
    "from abc import ABC, abstractmethod\n",
    "\n",
    "class Animal(ABC):\n",
    "    @abstractmethod\n",
    "    def eat(self):\n",
    "        pass\n",
    "\n",
    "    @abstractmethod\n",
    "    def sleep(self):\n",
    "        pass\n",
    "\n",
    "class Dog(Animal):\n",
    "    def eat(self):\n",
    "        return \"Dog is eating\"\n",
    "\n",
    "    def sleep(self):\n",
    "        return \"Dog is sleeping\"\n",
    "\n",
    "class Cat(Animal):\n",
    "    def eat(self):\n",
    "        return \"Cat is eating\"\n",
    "\n",
    "    def sleep(self):\n",
    "        return \"Cat is sleeping\"\n",
    "\n",
    "# Example usage\n",
    "animals = [Dog(), Cat()]\n",
    "\n",
    "for animal in animals:\n",
    "    print(animal.eat())\n",
    "    print(animal.sleep())\n"
   ]
  },
  {
   "cell_type": "markdown",
   "metadata": {},
   "source": [
    "# 9. Explain the significance of encapsulation in achieving abstraction. Provide examples.\n",
    "Encapsulation: Helps achieve abstraction by hiding the internal state of an object and requiring all interaction to be performed through methods.\n",
    "\n",
    "Example:"
   ]
  },
  {
   "cell_type": "code",
   "execution_count": 181,
   "metadata": {},
   "outputs": [
    {
     "name": "stdout",
     "output_type": "stream",
     "text": [
      "Toyota Corolla\n"
     ]
    }
   ],
   "source": [
    "class Car:\n",
    "    def __init__(self, make, model):\n",
    "        self.__make = make\n",
    "        self.__model = model\n",
    "\n",
    "    def get_details(self):\n",
    "        return f\"{self.__make} {self.__model}\"\n",
    "\n",
    "# Example usage\n",
    "car = Car(\"Toyota\", \"Corolla\")\n",
    "print(car.get_details())"
   ]
  },
  {
   "cell_type": "markdown",
   "metadata": {},
   "source": [
    "### 10. What is the purpose of abstract methods, and how do they enforce abstraction in Python classes?"
   ]
  },
  {
   "cell_type": "markdown",
   "metadata": {},
   "source": [
    "Abstract Methods: These are methods that are declared in an abstract class but contain no implementation. Subclasses must override these methods, enforcing abstraction by ensuring that certain methods are implemented."
   ]
  },
  {
   "cell_type": "markdown",
   "metadata": {},
   "source": [
    "### 11. Create a Python class for a vehicle system and demonstrate abstraction by defining common methods (e.g., start(), stop()) in an abstract base class."
   ]
  },
  {
   "cell_type": "code",
   "execution_count": 182,
   "metadata": {},
   "outputs": [
    {
     "name": "stdout",
     "output_type": "stream",
     "text": [
      "Car is starting\n",
      "Car is stopping\n",
      "Bike is starting\n",
      "Bike is stopping\n"
     ]
    }
   ],
   "source": [
    "from abc import ABC, abstractmethod\n",
    "\n",
    "class Vehicle(ABC):\n",
    "    @abstractmethod\n",
    "    def start(self):\n",
    "        pass\n",
    "\n",
    "    @abstractmethod\n",
    "    def stop(self):\n",
    "        pass\n",
    "\n",
    "class Car(Vehicle):\n",
    "    def start(self):\n",
    "        return \"Car is starting\"\n",
    "\n",
    "    def stop(self):\n",
    "        return \"Car is stopping\"\n",
    "\n",
    "class Bike(Vehicle):\n",
    "    def start(self):\n",
    "        return \"Bike is starting\"\n",
    "\n",
    "    def stop(self):\n",
    "        return \"Bike is stopping\"\n",
    "\n",
    "# Example usage\n",
    "vehicles = [Car(), Bike()]\n",
    "\n",
    "for vehicle in vehicles:\n",
    "    print(vehicle.start())\n",
    "    print(vehicle.stop())\n"
   ]
  },
  {
   "cell_type": "markdown",
   "metadata": {},
   "source": [
    "### 12. Describe the use of abstract properties in Python and how they can be employed in abstract classes.\n",
    "Abstract Properties: These are properties declared in an abstract class using the @property decorator along with the abc module. They must be implemented by any concrete subclass."
   ]
  },
  {
   "cell_type": "code",
   "execution_count": 183,
   "metadata": {},
   "outputs": [
    {
     "name": "stdout",
     "output_type": "stream",
     "text": [
      "John\n"
     ]
    }
   ],
   "source": [
    "from abc import ABC, abstractmethod\n",
    "\n",
    "class Person(ABC):\n",
    "    @property\n",
    "    @abstractmethod\n",
    "    def name(self):\n",
    "        pass\n",
    "\n",
    "class Employee(Person):\n",
    "    def __init__(self, name):\n",
    "        self._name = name\n",
    "\n",
    "    @property\n",
    "    def name(self):\n",
    "        return self._name\n",
    "\n",
    "# Example usage\n",
    "employee = Employee(\"John\")\n",
    "print(employee.name)\n"
   ]
  },
  {
   "cell_type": "markdown",
   "metadata": {},
   "source": [
    "### 13. Create a Python class hierarchy for employees in a company (e.g., manager, developer, designer) and implement abstraction by defining a common get_salary() method."
   ]
  },
  {
   "cell_type": "code",
   "execution_count": 184,
   "metadata": {},
   "outputs": [
    {
     "name": "stdout",
     "output_type": "stream",
     "text": [
      "80000\n",
      "70000\n",
      "60000\n"
     ]
    }
   ],
   "source": [
    "from abc import ABC, abstractmethod\n",
    "\n",
    "class Employee(ABC):\n",
    "    @abstractmethod\n",
    "    def get_salary(self):\n",
    "        pass\n",
    "\n",
    "class Manager(Employee):\n",
    "    def get_salary(self):\n",
    "        return 80000\n",
    "\n",
    "class Developer(Employee):\n",
    "    def get_salary(self):\n",
    "        return 70000\n",
    "\n",
    "class Designer(Employee):\n",
    "    def get_salary(self):\n",
    "        return 60000\n",
    "\n",
    "# Example usage\n",
    "employees = [Manager(), Developer(), Designer()]\n",
    "\n",
    "for employee in employees:\n",
    "    print(employee.get_salary())\n"
   ]
  },
  {
   "cell_type": "markdown",
   "metadata": {},
   "source": [
    "### 14. Discuss the differences between abstract classes and concrete classes in Python, including their instantiation.\n",
    "\n",
    "Abstract Classes:\n",
    "\n",
    "- Cannot be instantiated.\n",
    "- Contain abstract methods that must be implemented by subclasses.\n",
    "- Serve as blueprints for other classes.\n",
    "\n",
    "Concrete Classes:\n",
    "\n",
    "- Can be instantiated.\n",
    "- Provide full implementations for all methods.\n",
    "- Represent actual objects."
   ]
  },
  {
   "cell_type": "markdown",
   "metadata": {},
   "source": [
    "### 15. Explain the concept of abstract data types (ADTs) and their role in achieving abstraction in Python.\n",
    "Abstract Data Types (ADTs): ADTs define a data structure purely by its behavior from the point of view of a user, ignoring implementation details. This helps achieve abstraction by specifying what operations can be performed on the data without specifying how these operations are implemented.\n",
    "\n"
   ]
  },
  {
   "cell_type": "markdown",
   "metadata": {},
   "source": [
    "### 16. Create a Python class for a computer system, demonstrating abstraction by defining common methods (e.g., power_on(), shutdown()) in an abstract base class."
   ]
  },
  {
   "cell_type": "code",
   "execution_count": 185,
   "metadata": {},
   "outputs": [
    {
     "name": "stdout",
     "output_type": "stream",
     "text": [
      "Laptop is powering on\n",
      "Laptop is shutting down\n",
      "Desktop is powering on\n",
      "Desktop is shutting down\n"
     ]
    }
   ],
   "source": [
    "from abc import ABC, abstractmethod\n",
    "\n",
    "class ComputerSystem(ABC):\n",
    "    @abstractmethod\n",
    "    def power_on(self):\n",
    "        pass\n",
    "\n",
    "    @abstractmethod\n",
    "    def shutdown(self):\n",
    "        pass\n",
    "\n",
    "class Laptop(ComputerSystem):\n",
    "    def power_on(self):\n",
    "        return \"Laptop is powering on\"\n",
    "\n",
    "    def shutdown(self):\n",
    "        return \"Laptop is shutting down\"\n",
    "\n",
    "class Desktop(ComputerSystem):\n",
    "    def power_on(self):\n",
    "        return \"Desktop is powering on\"\n",
    "\n",
    "    def shutdown(self):\n",
    "        return \"Desktop is shutting down\"\n",
    "\n",
    "# Example usage\n",
    "systems = [Laptop(), Desktop()]\n",
    "\n",
    "for system in systems:\n",
    "    print(system.power_on())\n",
    "    print(system.shutdown())\n"
   ]
  },
  {
   "cell_type": "markdown",
   "metadata": {},
   "source": [
    "### 17. Discuss the benefits of using abstraction in large-scale software development projects.\n",
    "\n",
    "Benefits:\n",
    "\n",
    "- Simplifies Complex Systems: By breaking down a system into simpler, more manageable pieces.\n",
    "- Enhances Maintainability: Changes can be made to the implementation without affecting the interface.\n",
    "- Promotes Reusability: Abstract classes and methods can be reused across different parts of a project.\n",
    "- Improves Code Readability: By hiding complex implementation details.\n"
   ]
  },
  {
   "cell_type": "markdown",
   "metadata": {},
   "source": [
    "### 18. Explain how abstraction enhances code reusability and modularity in Python programs.\n",
    "Reusability: Abstract classes and methods can be used as templates for creating multiple concrete implementations.\n",
    "\n",
    "Modularity: Abstraction helps in dividing a program into distinct modules, each with a clear interface and implementation, making the code easier to manage and understand."
   ]
  },
  {
   "cell_type": "markdown",
   "metadata": {},
   "source": [
    "### 19. Create a Python class for a library system, implementing abstraction by defining common methods (e.g., add_book(), borrow_book()) in an abstract base class."
   ]
  },
  {
   "cell_type": "code",
   "execution_count": 186,
   "metadata": {},
   "outputs": [
    {
     "name": "stdout",
     "output_type": "stream",
     "text": [
      "Book '1984' added to the library\n",
      "Book '1984' borrowed from the library\n",
      "Book 'Animal Farm' not available\n"
     ]
    }
   ],
   "source": [
    "from abc import ABC, abstractmethod\n",
    "\n",
    "class LibrarySystem(ABC):\n",
    "    @abstractmethod\n",
    "    def add_book(self, book):\n",
    "        pass\n",
    "\n",
    "    @abstractmethod\n",
    "    def borrow_book(self, book):\n",
    "        pass\n",
    "\n",
    "class Library(LibrarySystem):\n",
    "    def __init__(self):\n",
    "        self.books = []\n",
    "\n",
    "    def add_book(self, book):\n",
    "        self.books.append(book)\n",
    "        return f\"Book '{book}' added to the library\"\n",
    "\n",
    "    def borrow_book(self, book):\n",
    "        if book in self.books:\n",
    "            self.books.remove(book)\n",
    "            return f\"Book '{book}' borrowed from the library\"\n",
    "        else:\n",
    "            return f\"Book '{book}' not available\"\n",
    "\n",
    "# Example usage\n",
    "library = Library()\n",
    "print(library.add_book(\"1984\"))\n",
    "print(library.borrow_book(\"1984\"))\n",
    "print(library.borrow_book(\"Animal Farm\"))\n"
   ]
  },
  {
   "cell_type": "markdown",
   "metadata": {},
   "source": [
    "### 20. Describe the concept of method abstraction in Python and how it relates to polymorphism.\n",
    "Method Abstraction: It involves defining methods in an abstract class without implementing them, thus enforcing subclasses to provide specific implementations. This relates to polymorphism as it allows objects of different classes to be treated as objects of a common superclass, enabling the same method to behave differently based on the object’s class.\n",
    "\n",
    "In summary, abstraction hides the implementation details and exposes only the necessary aspects of an object. This helps in simplifying complex systems, enhancing code maintainability, reusability, and readability, especially in large-scale software development projects."
   ]
  },
  {
   "cell_type": "markdown",
   "metadata": {},
   "source": [
    "## Composition"
   ]
  },
  {
   "cell_type": "markdown",
   "metadata": {},
   "source": [
    "### 1. Explain the concept of composition in Python and how it is used to build complex objects from simpler ones.\n",
    "\n",
    "Composition in Python is an object-oriented programming concept where complex objects are created by combining simpler objects. This involves creating classes that contain instances of other classes as attributes, thus building more complex behavior by leveraging the functionality of simpler components. It is based on the \"has-a\" relationship, indicating that one object contains or is composed of another."
   ]
  },
  {
   "cell_type": "markdown",
   "metadata": {},
   "source": [
    "### 2. Describe the difference between composition and inheritance in object-oriented programming.\n",
    "\n",
    "Composition:\n",
    "\n",
    "- \"Has-a\" relationship: Indicates that an object contains other objects.\n",
    "- Code reuse: Combines behaviors from multiple classes without forming a parent-child relationship.\n",
    "- Flexibility: Allows changing components dynamically at runtime.\n",
    "\n",
    "Inheritance:\n",
    "\n",
    "- \"Is-a\" relationship: Indicates that an object is a specialized form of another object.\n",
    "- Code reuse: Extends the behavior of a parent class by creating a subclass.\n",
    "- Less flexibility: Fixed relationship between parent and child classes."
   ]
  },
  {
   "cell_type": "markdown",
   "metadata": {},
   "source": [
    "### 3. Create a Python class called Author with attributes for name and birthdate. Then, create a Book class that contains an instance of Author as a composition. Provide an example of creating a Book object."
   ]
  },
  {
   "cell_type": "code",
   "execution_count": 187,
   "metadata": {},
   "outputs": [
    {
     "name": "stdout",
     "output_type": "stream",
     "text": [
      "Book: 1984\n",
      "Author: George Orwell, Birthdate: 1903-06-25\n"
     ]
    }
   ],
   "source": [
    "class Author:\n",
    "    def __init__(self, name, birthdate):\n",
    "        self.name = name\n",
    "        self.birthdate = birthdate\n",
    "\n",
    "class Book:\n",
    "    def __init__(self, title, author):\n",
    "        self.title = title\n",
    "        self.author = author\n",
    "\n",
    "# Example usage\n",
    "author = Author(\"George Orwell\", \"1903-06-25\")\n",
    "book = Book(\"1984\", author)\n",
    "\n",
    "print(f\"Book: {book.title}\")\n",
    "print(f\"Author: {book.author.name}, Birthdate: {book.author.birthdate}\")\n"
   ]
  },
  {
   "cell_type": "markdown",
   "metadata": {},
   "source": [
    "### 4. Discuss the benefits of using composition over inheritance in Python, especially in terms of code flexibility and reusability.\n",
    "\n",
    "Benefits of Composition:\n",
    "\n",
    "- Decoupling: Reduces dependencies between classes, making code more modular and easier to maintain.\n",
    "- Reusability: Allows combining different components in various ways without altering the original classes.\n",
    "- Flexibility: Components can be replaced or modified dynamically at runtime without affecting the overall system.\n",
    "- Simplicity: Encourages simpler class designs by focusing on single responsibilities for each component."
   ]
  },
  {
   "cell_type": "markdown",
   "metadata": {},
   "source": [
    "### 5. How can you implement composition in Python classes? Provide examples of using composition to create complex objects."
   ]
  },
  {
   "cell_type": "code",
   "execution_count": 188,
   "metadata": {},
   "outputs": [
    {
     "name": "stdout",
     "output_type": "stream",
     "text": [
      "Engine started for Toyota Corolla\n"
     ]
    }
   ],
   "source": [
    "class Engine:\n",
    "    def __init__(self, horsepower):\n",
    "        self.horsepower = horsepower\n",
    "\n",
    "    def start(self):\n",
    "        return \"Engine started\"\n",
    "\n",
    "class Car:\n",
    "    def __init__(self, make, model, engine):\n",
    "        self.make = make\n",
    "        self.model = model\n",
    "        self.engine = engine\n",
    "\n",
    "    def start(self):\n",
    "        return f\"{self.engine.start()} for {self.make} {self.model}\"\n",
    "\n",
    "# Example usage\n",
    "engine = Engine(150)\n",
    "car = Car(\"Toyota\", \"Corolla\", engine)\n",
    "\n",
    "print(car.start())\n"
   ]
  },
  {
   "cell_type": "markdown",
   "metadata": {},
   "source": [
    "### 6. Create a Python class hierarchy for a music player system, using composition to represent playlists and songs."
   ]
  },
  {
   "cell_type": "code",
   "execution_count": 189,
   "metadata": {},
   "outputs": [
    {
     "name": "stdout",
     "output_type": "stream",
     "text": [
      "Playing Imagine by John Lennon\n",
      "Playing Let It Be by The Beatles\n"
     ]
    }
   ],
   "source": [
    "class Song:\n",
    "    def __init__(self, title, artist):\n",
    "        self.title = title\n",
    "        self.artist = artist\n",
    "\n",
    "class Playlist:\n",
    "    def __init__(self, name):\n",
    "        self.name = name\n",
    "        self.songs = []\n",
    "\n",
    "    def add_song(self, song):\n",
    "        self.songs.append(song)\n",
    "\n",
    "    def play(self):\n",
    "        return [f\"Playing {song.title} by {song.artist}\" for song in self.songs]\n",
    "\n",
    "# Example usage\n",
    "song1 = Song(\"Imagine\", \"John Lennon\")\n",
    "song2 = Song(\"Let It Be\", \"The Beatles\")\n",
    "playlist = Playlist(\"My Playlist\")\n",
    "playlist.add_song(song1)\n",
    "playlist.add_song(song2)\n",
    "\n",
    "for play in playlist.play():\n",
    "    print(play)\n"
   ]
  },
  {
   "cell_type": "markdown",
   "metadata": {},
   "source": [
    "### 7. Explain the concept of \"has-a\" relationships in composition and how it helps design software systems.\n",
    "\n",
    "\"Has-a\" Relationships: This relationship indicates that an object contains or is composed of other objects. In composition, a class is made up of one or more objects of other classes, enabling complex systems to be built from simpler, reusable components. It helps in:\n",
    "\n",
    "- Modular Design: Breaking down complex systems into manageable parts.\n",
    "- Reusability: Reusing components across different parts of the system.\n",
    "- Maintenance: Easier to update and maintain individual components without affecting the entire system."
   ]
  },
  {
   "cell_type": "markdown",
   "metadata": {},
   "source": [
    "### 8. Create a Python class for a computer system, using composition to represent components like CPU, RAM, and storage devices."
   ]
  },
  {
   "cell_type": "code",
   "execution_count": 190,
   "metadata": {},
   "outputs": [
    {
     "name": "stdout",
     "output_type": "stream",
     "text": [
      "CPU: Intel i7, RAM: 16GB, Storage: 512GB\n"
     ]
    }
   ],
   "source": [
    "class CPU:\n",
    "    def __init__(self, model):\n",
    "        self.model = model\n",
    "\n",
    "class RAM:\n",
    "    def __init__(self, size):\n",
    "        self.size = size\n",
    "\n",
    "class Storage:\n",
    "    def __init__(self, capacity):\n",
    "        self.capacity = capacity\n",
    "\n",
    "class Computer:\n",
    "    def __init__(self, cpu, ram, storage):\n",
    "        self.cpu = cpu\n",
    "        self.ram = ram\n",
    "        self.storage = storage\n",
    "\n",
    "    def get_specs(self):\n",
    "        return f\"CPU: {self.cpu.model}, RAM: {self.ram.size}GB, Storage: {self.storage.capacity}GB\"\n",
    "\n",
    "# Example usage\n",
    "cpu = CPU(\"Intel i7\")\n",
    "ram = RAM(16)\n",
    "storage = Storage(512)\n",
    "computer = Computer(cpu, ram, storage)\n",
    "\n",
    "print(computer.get_specs())\n"
   ]
  },
  {
   "cell_type": "markdown",
   "metadata": {},
   "source": [
    "### 9. Describe the concept of \"delegation\" in composition and how it simplifies the design of complex systems.\n",
    "\n",
    "Delegation: This concept involves an object handing off a task to a contained object. In composition, delegation helps distribute responsibilities among different objects, simplifying the design by:\n",
    "\n",
    "- Encapsulation: Encapsulating specific behaviors within dedicated objects.\n",
    "- Separation of Concerns: Each object handles a specific task, making the system easier to understand and maintain.\n",
    "- Flexibility: Components can be changed or extended without affecting other parts of the system."
   ]
  },
  {
   "cell_type": "markdown",
   "metadata": {},
   "source": [
    "### 10. Create a Python class for a car, using composition to represent components like the engine, wheels, and transmission."
   ]
  },
  {
   "cell_type": "code",
   "execution_count": 191,
   "metadata": {},
   "outputs": [
    {
     "name": "stdout",
     "output_type": "stream",
     "text": [
      "Engine: 250HP, Wheels: 18 inches, Transmission: Automatic\n"
     ]
    }
   ],
   "source": [
    "class Engine:\n",
    "    def __init__(self, horsepower):\n",
    "        self.horsepower = horsepower\n",
    "\n",
    "class Wheels:\n",
    "    def __init__(self, size):\n",
    "        self.size = size\n",
    "\n",
    "class Transmission:\n",
    "    def __init__(self, type):\n",
    "        self.type = type\n",
    "\n",
    "class Car:\n",
    "    def __init__(self, engine, wheels, transmission):\n",
    "        self.engine = engine\n",
    "        self.wheels = wheels\n",
    "        self.transmission = transmission\n",
    "\n",
    "    def get_specs(self):\n",
    "        return f\"Engine: {self.engine.horsepower}HP, Wheels: {self.wheels.size} inches, Transmission: {self.transmission.type}\"\n",
    "\n",
    "# Example usage\n",
    "engine = Engine(250)\n",
    "wheels = Wheels(18)\n",
    "transmission = Transmission(\"Automatic\")\n",
    "car = Car(engine, wheels, transmission)\n",
    "\n",
    "print(car.get_specs())\n"
   ]
  },
  {
   "cell_type": "markdown",
   "metadata": {},
   "source": [
    "### 11. How can you encapsulate and hide the details of composed objects in Python classes to maintain abstraction?\n",
    "\n",
    "Encapsulation: In composition, encapsulation can be achieved by keeping the composed objects as private attributes and providing public methods to interact with them. This hides the internal details and exposes only necessary functionality."
   ]
  },
  {
   "cell_type": "code",
   "execution_count": 192,
   "metadata": {},
   "outputs": [
    {
     "name": "stdout",
     "output_type": "stream",
     "text": [
      "Engine started for Toyota Corolla\n"
     ]
    }
   ],
   "source": [
    "class Engine:\n",
    "    def __init__(self, horsepower):\n",
    "        self._horsepower = horsepower\n",
    "\n",
    "    def start(self):\n",
    "        return \"Engine started\"\n",
    "\n",
    "class Car:\n",
    "    def __init__(self, make, model, engine):\n",
    "        self.make = make\n",
    "        self.model = model\n",
    "        self._engine = engine  # Private attribute\n",
    "\n",
    "    def start(self):\n",
    "        return f\"{self._engine.start()} for {self.make} {self.model}\"\n",
    "\n",
    "# Example usage\n",
    "engine = Engine(150)\n",
    "car = Car(\"Toyota\", \"Corolla\", engine)\n",
    "\n",
    "print(car.start())\n"
   ]
  },
  {
   "cell_type": "markdown",
   "metadata": {},
   "source": [
    "### 12. Create a Python class for a university course, using composition to represent students, instructors, and course materials."
   ]
  },
  {
   "cell_type": "code",
   "execution_count": 193,
   "metadata": {},
   "outputs": [
    {
     "name": "stdout",
     "output_type": "stream",
     "text": [
      "Course: Physics 101\n",
      "Instructor: Dr. Smith\n",
      "Students: ['Alice', 'Bob']\n",
      "Materials: ['Lecture Notes', 'Lab Manual']\n"
     ]
    }
   ],
   "source": [
    "class Student:\n",
    "    def __init__(self, name):\n",
    "        self.name = name\n",
    "\n",
    "class Instructor:\n",
    "    def __init__(self, name):\n",
    "        self.name = name\n",
    "\n",
    "class CourseMaterial:\n",
    "    def __init__(self, title):\n",
    "        self.title = title\n",
    "\n",
    "class Course:\n",
    "    def __init__(self, course_name, instructor):\n",
    "        self.course_name = course_name\n",
    "        self.instructor = instructor\n",
    "        self.students = []\n",
    "        self.materials = []\n",
    "\n",
    "    def add_student(self, student):\n",
    "        self.students.append(student)\n",
    "\n",
    "    def add_material(self, material):\n",
    "        self.materials.append(material)\n",
    "\n",
    "# Example usage\n",
    "instructor = Instructor(\"Dr. Smith\")\n",
    "course = Course(\"Physics 101\", instructor)\n",
    "course.add_student(Student(\"Alice\"))\n",
    "course.add_student(Student(\"Bob\"))\n",
    "course.add_material(CourseMaterial(\"Lecture Notes\"))\n",
    "course.add_material(CourseMaterial(\"Lab Manual\"))\n",
    "\n",
    "print(f\"Course: {course.course_name}\")\n",
    "print(f\"Instructor: {course.instructor.name}\")\n",
    "print(\"Students:\", [student.name for student in course.students])\n",
    "print(\"Materials:\", [material.title for material in course.materials])\n"
   ]
  },
  {
   "cell_type": "markdown",
   "metadata": {},
   "source": [
    "### 13. Discuss the challenges and drawbacks of composition, such as increased complexity and potential for tight coupling between objects.\n",
    "\n",
    "Challenges and Drawbacks:\n",
    "\n",
    "- Increased Complexity: Managing multiple composed objects can make the system more complex and harder to understand.\n",
    "- Tight Coupling: If not designed carefully, composition can lead to tight coupling between objects, making changes in one component affect others.\n",
    "- Overhead: Creating and managing multiple objects can introduce additional overhead in terms of memory and performance.\n",
    "- Dependency Management: Ensuring that all components are correctly instantiated and managed can be challenging."
   ]
  },
  {
   "cell_type": "markdown",
   "metadata": {},
   "source": [
    "### 14. Create a Python class hierarchy for a restaurant system, using composition to represent menus, dishes, and ingredients."
   ]
  },
  {
   "cell_type": "code",
   "execution_count": 194,
   "metadata": {},
   "outputs": [
    {
     "name": "stdout",
     "output_type": "stream",
     "text": [
      "Menu: Dinner Menu\n",
      "Dish: Pizza, Ingredients: ['Tomato', 'Cheese']\n"
     ]
    }
   ],
   "source": [
    "class Ingredient:\n",
    "    def __init__(self, name):\n",
    "        self.name = name\n",
    "\n",
    "class Dish:\n",
    "    def __init__(self, name):\n",
    "        self.name = name\n",
    "        self.ingredients = []\n",
    "\n",
    "    def add_ingredient(self, ingredient):\n",
    "        self.ingredients.append(ingredient)\n",
    "\n",
    "class Menu:\n",
    "    def __init__(self, name):\n",
    "        self.name = name\n",
    "        self.dishes = []\n",
    "\n",
    "    def add_dish(self, dish):\n",
    "        self.dishes.append(dish)\n",
    "\n",
    "# Example usage\n",
    "ingredient1 = Ingredient(\"Tomato\")\n",
    "ingredient2 = Ingredient(\"Cheese\")\n",
    "dish = Dish(\"Pizza\")\n",
    "dish.add_ingredient(ingredient1)\n",
    "dish.add_ingredient(ingredient2)\n",
    "menu = Menu(\"Dinner Menu\")\n",
    "menu.add_dish(dish)\n",
    "\n",
    "print(f\"Menu: {menu.name}\")\n",
    "for dish in menu.dishes:\n",
    "    print(f\"Dish: {dish.name}, Ingredients: {[ingredient.name for ingredient in dish.ingredients]}\")\n"
   ]
  },
  {
   "cell_type": "markdown",
   "metadata": {},
   "source": [
    "### 15. Explain how composition enhances code maintainability and modularity in Python programs.\n",
    "\n",
    "Enhances Maintainability:\n",
    "\n",
    "- Isolation of Changes: Changes in one component do not affect others, making it easier to update and maintain the code.\n",
    "- Clear Responsibilities: Each component handles specific tasks, reducing \n",
    "complexity and making the codebase easier to understand.\n",
    "\n",
    "Enhances Modularity:\n",
    "\n",
    "- Reusability: Components can be reused across different parts of the system.\n",
    "- Flexibility: Components can be replaced or modified without affecting the overall system.\n"
   ]
  },
  {
   "cell_type": "markdown",
   "metadata": {},
   "source": [
    "### 16. Create a Python class for a computer game character, using composition to represent attributes like weapons, armor, and inventory."
   ]
  },
  {
   "cell_type": "code",
   "execution_count": 195,
   "metadata": {},
   "outputs": [
    {
     "name": "stdout",
     "output_type": "stream",
     "text": [
      "Character: Hero\n",
      "Weapon: Sword, Damage: 50\n",
      "Armor: Shield, Defense: 20\n",
      "Inventory: ['Health Potion']\n"
     ]
    }
   ],
   "source": [
    "class Weapon:\n",
    "    def __init__(self, name, damage):\n",
    "        self.name = name\n",
    "        self.damage = damage\n",
    "\n",
    "class Armor:\n",
    "    def __init__(self, name, defense):\n",
    "        self.name = name\n",
    "        self.defense = defense\n",
    "\n",
    "class Inventory:\n",
    "    def __init__(self):\n",
    "        self.items = []\n",
    "\n",
    "    def add_item(self, item):\n",
    "        self.items.append(item)\n",
    "\n",
    "class Character:\n",
    "    def __init__(self, name):\n",
    "        self.name = name\n",
    "        self.weapon = None\n",
    "        self.armor = None\n",
    "        self.inventory = Inventory()\n",
    "\n",
    "    def equip_weapon(self, weapon):\n",
    "        self.weapon = weapon\n",
    "\n",
    "    def equip_armor(self, armor):\n",
    "        self.armor = armor\n",
    "\n",
    "# Example usage\n",
    "weapon = Weapon(\"Sword\", 50)\n",
    "armor = Armor(\"Shield\", 20)\n",
    "character = Character(\"Hero\")\n",
    "character.equip_weapon(weapon)\n",
    "character.equip_armor(armor)\n",
    "character.inventory.add_item(\"Health Potion\")\n",
    "\n",
    "print(f\"Character: {character.name}\")\n",
    "print(f\"Weapon: {character.weapon.name}, Damage: {character.weapon.damage}\")\n",
    "print(f\"Armor: {character.armor.name}, Defense: {character.armor.defense}\")\n",
    "print(\"Inventory:\", character.inventory.items)\n"
   ]
  },
  {
   "cell_type": "markdown",
   "metadata": {},
   "source": [
    "### 17. Describe the concept of \"aggregation\" in composition and how it differs from simple composition.\n",
    "\n",
    "Aggregation: A special form of composition where the contained objects can exist independently of the container. It represents a \"whole-part\" relationship, where the part can exist without the whole.\n",
    "\n",
    "Differences:\n",
    "\n",
    "- Composition: The lifetime of the contained object is dependent on the container. When the container is destroyed, so are its parts.\n",
    "- Aggregation: The contained objects can exist independently of the container. The parts can exist even if the whole is destroyed."
   ]
  },
  {
   "cell_type": "markdown",
   "metadata": {},
   "source": [
    "### 18. Create a Python class for a house, using composition to represent rooms, furniture, and appliances."
   ]
  },
  {
   "cell_type": "code",
   "execution_count": 196,
   "metadata": {},
   "outputs": [
    {
     "name": "stdout",
     "output_type": "stream",
     "text": [
      "House Address: 123 Main St\n",
      "Rooms: ['Living Room']\n",
      "Furniture: ['Sofa']\n",
      "Appliances: ['Refrigerator']\n"
     ]
    }
   ],
   "source": [
    "class Room:\n",
    "    def __init__(self, name):\n",
    "        self.name = name\n",
    "\n",
    "class Furniture:\n",
    "    def __init__(self, name):\n",
    "        self.name = name\n",
    "\n",
    "class Appliance:\n",
    "    def __init__(self, name):\n",
    "        self.name = name\n",
    "\n",
    "class House:\n",
    "    def __init__(self, address):\n",
    "        self.address = address\n",
    "        self.rooms = []\n",
    "        self.furniture = []\n",
    "        self.appliances = []\n",
    "\n",
    "    def add_room(self, room):\n",
    "        self.rooms.append(room)\n",
    "\n",
    "    def add_furniture(self, furniture):\n",
    "        self.furniture.append(furniture)\n",
    "\n",
    "    def add_appliance(self, appliance):\n",
    "        self.appliances.append(appliance)\n",
    "\n",
    "# Example usage\n",
    "room1 = Room(\"Living Room\")\n",
    "furniture1 = Furniture(\"Sofa\")\n",
    "appliance1 = Appliance(\"Refrigerator\")\n",
    "house = House(\"123 Main St\")\n",
    "house.add_room(room1)\n",
    "house.add_furniture(furniture1)\n",
    "house.add_appliance(appliance1)\n",
    "\n",
    "print(f\"House Address: {house.address}\")\n",
    "print(\"Rooms:\", [room.name for room in house.rooms])\n",
    "print(\"Furniture:\", [furniture.name for furniture in house.furniture])\n",
    "print(\"Appliances:\", [appliance.name for appliance in house.appliances])\n"
   ]
  },
  {
   "cell_type": "markdown",
   "metadata": {},
   "source": [
    "### 19. How can you achieve flexibility in composed objects by allowing them to be replaced or modified dynamically at runtime?\n",
    "Achieving Flexibility:\n",
    "\n",
    "- Dependency Injection: Inject dependencies into a class at runtime, allowing components to be replaced dynamically.\n",
    "- Setter Methods: Use setter methods to change components after the object has been created.\n",
    "- Dynamic Attributes: Directly modify the attributes of an object to replace components.\n"
   ]
  },
  {
   "cell_type": "code",
   "execution_count": 197,
   "metadata": {},
   "outputs": [
    {
     "name": "stdout",
     "output_type": "stream",
     "text": [
      "Original Engine: 150HP\n",
      "New Engine: 200HP\n"
     ]
    }
   ],
   "source": [
    "class Engine:\n",
    "    def __init__(self, horsepower):\n",
    "        self.horsepower = horsepower\n",
    "\n",
    "class Car:\n",
    "    def __init__(self, make, model, engine):\n",
    "        self.make = make\n",
    "        self.model = model\n",
    "        self.engine = engine\n",
    "\n",
    "    def replace_engine(self, new_engine):\n",
    "        self.engine = new_engine\n",
    "\n",
    "# Example usage\n",
    "engine1 = Engine(150)\n",
    "engine2 = Engine(200)\n",
    "car = Car(\"Toyota\", \"Corolla\", engine1)\n",
    "print(f\"Original Engine: {car.engine.horsepower}HP\")\n",
    "\n",
    "car.replace_engine(engine2)\n",
    "print(f\"New Engine: {car.engine.horsepower}HP\")\n"
   ]
  },
  {
   "cell_type": "markdown",
   "metadata": {},
   "source": [
    "### 20. Create a Python class for a social media application, using composition to represent users, posts, and comments."
   ]
  },
  {
   "cell_type": "code",
   "execution_count": 198,
   "metadata": {},
   "outputs": [
    {
     "name": "stdout",
     "output_type": "stream",
     "text": [
      "Post by alice: Hello, world!\n",
      "Comments:\n",
      "bob: Nice post!\n"
     ]
    }
   ],
   "source": [
    "class User:\n",
    "    def __init__(self, username):\n",
    "        self.username = username\n",
    "\n",
    "class Post:\n",
    "    def __init__(self, content, user):\n",
    "        self.content = content\n",
    "        self.user = user\n",
    "        self.comments = []\n",
    "\n",
    "    def add_comment(self, comment):\n",
    "        self.comments.append(comment)\n",
    "\n",
    "class Comment:\n",
    "    def __init__(self, content, user):\n",
    "        self.content = content\n",
    "        self.user = user\n",
    "\n",
    "class SocialMediaApp:\n",
    "    def __init__(self):\n",
    "        self.users = []\n",
    "        self.posts = []\n",
    "\n",
    "    def add_user(self, user):\n",
    "        self.users.append(user)\n",
    "\n",
    "    def add_post(self, post):\n",
    "        self.posts.append(post)\n",
    "\n",
    "# Example usage\n",
    "user1 = User(\"alice\")\n",
    "user2 = User(\"bob\")\n",
    "post = Post(\"Hello, world!\", user1)\n",
    "comment = Comment(\"Nice post!\", user2)\n",
    "post.add_comment(comment)\n",
    "app = SocialMediaApp()\n",
    "app.add_user(user1)\n",
    "app.add_user(user2)\n",
    "app.add_post(post)\n",
    "\n",
    "print(f\"Post by {post.user.username}: {post.content}\")\n",
    "print(\"Comments:\")\n",
    "for comment in post.comments:\n",
    "    print(f\"{comment.user.username}: {comment.content}\")\n"
   ]
  },
  {
   "cell_type": "code",
   "execution_count": null,
   "metadata": {},
   "outputs": [],
   "source": []
  }
 ],
 "metadata": {
  "kernelspec": {
   "display_name": "Python 3",
   "language": "python",
   "name": "python3"
  },
  "language_info": {
   "codemirror_mode": {
    "name": "ipython",
    "version": 3
   },
   "file_extension": ".py",
   "mimetype": "text/x-python",
   "name": "python",
   "nbconvert_exporter": "python",
   "pygments_lexer": "ipython3",
   "version": "3.11.0"
  }
 },
 "nbformat": 4,
 "nbformat_minor": 2
}
